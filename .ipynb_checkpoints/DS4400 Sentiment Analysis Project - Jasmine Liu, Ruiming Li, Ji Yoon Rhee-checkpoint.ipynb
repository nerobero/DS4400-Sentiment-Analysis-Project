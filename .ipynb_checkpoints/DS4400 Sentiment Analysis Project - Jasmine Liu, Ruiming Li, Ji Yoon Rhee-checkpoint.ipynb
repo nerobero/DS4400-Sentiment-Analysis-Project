{
 "cells": [
  {
   "cell_type": "code",
   "execution_count": 11,
   "id": "e1a32306",
   "metadata": {},
   "outputs": [],
   "source": [
    "#importing libraries here: \n",
    "import pandas as pd\n",
    "import numpy as np \n",
    "from sklearn.linear_model import LogisticRegression\n",
    "from sklearn.tree import DecisionTreeClassifier\n",
    "from sklearn.naive_bayes import MultinomialNB\n",
    "from sklearn.model_selection import train_test_split\n",
    "from sklearn.feature_extraction.text import CountVectorizer\n",
    "from sklearn.feature_extraction.text import TfidfVectorizer\n",
    "from sklearn.tree import DecisionTreeClassifier\n",
    "from sklearn.model_selection import GridSearchCV\n",
    "from sklearn.neighbors import KNeighborsClassifier\n",
    "from sklearn.metrics import mean_squared_error\n",
    "from sklearn.model_selection import RandomizedSearchCV\n",
    "from sklearn import tree\n",
    "import matplotlib.pyplot as plt\n",
    "from sklearn.ensemble import RandomForestClassifier\n",
<<<<<<< Updated upstream
    "from sklearn.metrics import accuracy_score, f1_score, auc, roc_auc_score\n",
    "from nltk\n",
=======
>>>>>>> Stashed changes
    "from sklearn.multiclass import OneVsRestClassifier, OneVsOneClassifier"
   ]
  },
  {
   "cell_type": "code",
   "execution_count": 12,
   "id": "f5831f39",
   "metadata": {},
   "outputs": [],
   "source": [
    "# Read training and testing data from tsv file\n",
    "train_data = pd.read_csv(\"Data/kaggle_train.tsv\", sep='\\t')\n",
    "test_data = pd.read_csv(\"Data/kaggle_test.tsv\", sep='\\t')"
   ]
  },
  {
   "cell_type": "code",
   "execution_count": 13,
   "id": "eac4e238",
   "metadata": {},
   "outputs": [],
   "source": [
    "X = train_data['Phrase']\n",
    "y = train_data['Sentiment']\n",
    "\n",
    "X_test = test_data['Phrase']\n",
    "\n",
    "# Split train_data into testing and validation sets\n",
    "X_train, X_val, y_train, y_val = train_test_split(X, y, train_size = 0.8, random_state=3000)"
   ]
  },
  {
   "cell_type": "markdown",
   "id": "aa0d3bf2",
   "metadata": {},
   "source": [
    "### MultinomialNB"
   ]
  },
  {
   "cell_type": "code",
   "execution_count": 14,
   "id": "d61a73da",
   "metadata": {
    "scrolled": true
   },
   "outputs": [
    {
     "name": "stdout",
     "output_type": "stream",
     "text": [
      "Best min_df: 0\n",
      "Best alpha: 0.4\n",
      "Best train score: 0.7463956170703575\n",
      "Best validation score: 0.6323529411764706\n"
     ]
    }
   ],
   "source": [
    "# Range of min_df values from 0-10\n",
    "min_df = range(11)\n",
    "# Range of alpha values from 0-1 by increments of 0.1\n",
    "alphas = np.arange(0, 1, 0.1)\n",
    "alphas = np.delete(alphas, 0)\n",
    "\n",
    "# Keep track of the best min_df, alpha, train score, and validation score\n",
    "best_md = None\n",
    "best_alpha = None\n",
    "best_train_score = 0\n",
    "best_val_score = 0\n",
    "\n",
    "# Iterate through min_df and alpha values to find the best combination that produces the highest validation score\n",
    "for m in min_df:\n",
    "    #create the vocabulary based on the training data\n",
    "    vect = TfidfVectorizer(min_df=m, ngram_range=(1,2)).fit(X_train)\n",
    "\n",
    "    #encode the words in X_train and X_val based on the vocabulary\n",
    "    X_train_vectorized = vect.transform(X_train)\n",
    "    X_val_vectorized = vect.transform(X_val)\n",
    "    \n",
    "    for a in alphas:\n",
    "        # Train a MultinomialNB model and get the validation score\n",
    "        mnb = MultinomialNB(alpha = a).fit(X_train_vectorized, y_train)\n",
    "        score = mnb.score(X_val_vectorized, y_val)\n",
    "        \n",
    "        # If this model has a higher val score, set the best parameters/scores to the current parameters/scores\n",
    "        if score > best_val_score:\n",
    "            best_md = m\n",
    "            best_alpha = a\n",
    "            best_val_score = score\n",
    "            best_train_score = mnb.score(X_train_vectorized, y_train)\n",
    "            \n",
    "print(f\"Best min_df: {best_md}\")\n",
    "print(f\"Best alpha: {best_alpha}\")\n",
    "print(f\"Best train score: {best_train_score}\")\n",
    "print(f\"Best validation score: {best_val_score}\")"
   ]
  },
  {
   "cell_type": "markdown",
   "id": "66f1ceae",
   "metadata": {},
   "source": [
    "### Logistic Regression"
   ]
  },
  {
   "cell_type": "code",
   "execution_count": 15,
   "id": "f3caa3be",
   "metadata": {},
   "outputs": [
    {
     "name": "stdout",
     "output_type": "stream",
     "text": [
      "0\n",
      "train score: 0.7260348583877996\n",
      "validation score: 0.6438549275919518\n",
      "1\n",
      "train score: 0.7260348583877996\n",
      "validation score: 0.6438549275919518\n",
      "2\n",
      "train score: 0.7343649878251954\n",
      "validation score: 0.6501025246699987\n",
      "3\n",
      "train score: 0.7294470075611944\n",
      "validation score: 0.6455529924388056\n",
      "4\n",
      "train score: 0.7325147379213123\n",
      "validation score: 0.6486928104575164\n",
      "5\n",
      "train score: 0.7238401896706395\n",
      "validation score: 0.6462258105856722\n",
      "6\n",
      "train score: 0.7193547353581956\n",
      "validation score: 0.6459694989106753\n",
      "7\n",
      "train score: 0.7151976803793413\n",
      "validation score: 0.6457772651544278\n",
      "8\n",
      "train score: 0.7101996027169037\n",
      "validation score: 0.646161732666923\n",
      "9\n",
      "train score: 0.7049692425990004\n",
      "validation score: 0.6452966807638087\n",
      "10\n",
      "train score: 0.7040881712161989\n",
      "validation score: 0.64439958990132\n"
     ]
    }
   ],
   "source": [
    "# Logistic Regression, just by itself\n",
    "\n",
    "# Range of min_df values from 0-10\n",
    "min_df = range(11)\n",
    "\n",
    "for m in min_df:\n",
    "    #create the vocabulary based on the training data\n",
    "    vect = TfidfVectorizer(min_df=m, ngram_range=(1,2)).fit(X_train)\n",
    "\n",
    "    #encode the words in X_train and X_val based on the vocabulary\n",
    "    X_train_vectorized = vect.transform(X_train)\n",
    "    X_val_vectorized = vect.transform(X_val)\n",
    "\n",
    "    lr = LogisticRegression(n_jobs=-1)\n",
    "    lr.fit(X_train_vectorized, y_train)\n",
    "    train_pred = lr.predict(X_train_vectorized)\n",
    "    val_pred = lr.predict (X_val_vectorized)\n",
    "    \n",
    "    train_score = lr.score(train_pred, y_train)\n",
    "    val_score = lr.score(val_pred, y_val)\n",
    "\n",
    "    print(m)\n",
    "    print(f\"train error: {1-train_score}\")\n",
    "    print(f\"test error: {1-val_score}\")\n",
    "    \n",
    "    "
   ]
  },
  {
   "cell_type": "code",
   "execution_count": 19,
   "id": "f2d0916b",
   "metadata": {
    "scrolled": false
   },
   "outputs": [
    {
     "name": "stdout",
     "output_type": "stream",
     "text": [
      "0\n",
      "train score: 0.7138840830449827\n",
      "validation score: 0.6379277201076509\n",
      "1\n",
      "train score: 0.7138840830449827\n",
      "validation score: 0.6379277201076509\n",
      "2\n",
      "train score: 0.7137799564270153\n",
      "validation score: 0.6385364603357683\n",
      "3\n",
      "train score: 0.7128107779059336\n",
      "validation score: 0.6394976291170062\n",
      "4\n",
      "train score: 0.7113049468153274\n",
      "validation score: 0.6399461745482506\n",
      "5\n",
      "train score: 0.7080850313981802\n",
      "validation score: 0.6387286940920159\n",
      "6\n",
      "train score: 0.704360502370883\n",
      "validation score: 0.6387607330513905\n",
      "7\n",
      "train score: 0.7004357298474946\n",
      "validation score: 0.6395296680763809\n",
      "8\n",
      "train score: 0.696078431372549\n",
      "validation score: 0.6377995642701525\n",
      "9\n",
      "train score: 0.6922978341663463\n",
      "validation score: 0.6379917980264\n",
      "10\n",
      "train score: 0.6893342304241958\n",
      "validation score: 0.6369665513264129\n"
     ]
    }
   ],
   "source": [
    "#Logistic regression, One-vs-Rest method \n",
    "# Range of min_df values from 0-10\n",
    "min_df = range(11)\n",
    "\n",
    "for m in min_df:\n",
    "    #create the vocabulary based on the training data\n",
    "    vect = TfidfVectorizer(min_df=m, ngram_range=(1,2)).fit(X_train)\n",
    "\n",
    "    #encode the words in X_train and X_val based on the vocabulary\n",
    "    X_train_vectorized = vect.transform(X_train)\n",
    "    X_val_vectorized = vect.transform(X_val)\n",
    "\n",
    "    ovr = OneVsRestClassifier(LogisticRegression(n_jobs = -1))\n",
    "    ovr.fit(X_train_vectorized, y_train)\n",
    "    train_score = ovr.score(X_train_vectorized, y_train)\n",
    "    val_score = ovr.score(X_val_vectorized, y_val)\n",
    "\n",
    "    print(m)\n",
    "    print(f\"train score: {train_score}\")\n",
    "    print(f\"validation score: {val_score}\")"
   ]
  },
  {
   "cell_type": "code",
   "execution_count": 21,
   "id": "e6cecb89",
   "metadata": {
    "scrolled": true
   },
   "outputs": [
    {
     "name": "stdout",
     "output_type": "stream",
     "text": [
      "0\n",
      "train score: 0.6991541714725106\n",
      "validation score: 0.6336985774702037\n",
      "1\n",
      "train score: 0.6991541714725106\n",
      "validation score: 0.6336985774702037\n",
      "2\n",
      "train score: 0.6998510188389081\n",
      "validation score: 0.6351403306420608\n",
      "3\n",
      "train score: 0.6995546584646931\n",
      "validation score: 0.6348519800076894\n",
      "4\n",
      "train score: 0.698136934512367\n",
      "validation score: 0.6356529539920543\n",
      "5\n",
      "train score: 0.69669518134051\n",
      "validation score: 0.6370626682045367\n",
      "6\n",
      "train score: 0.6939238113546072\n",
      "validation score: 0.636646161732667\n",
      "7\n",
      "train score: 0.6919133666538511\n",
      "validation score: 0.6380238369857747\n",
      "8\n",
      "train score: 0.6889737921312316\n",
      "validation score: 0.6374150967576573\n",
      "9\n",
      "train score: 0.6864747533000128\n",
      "validation score: 0.6367743175701653\n",
      "10\n",
      "train score: 0.6841759579648853\n",
      "validation score: 0.6357811098295527\n"
     ]
    }
   ],
   "source": [
    "# Range of min_df values from 0-10\n",
    "min_df = range(11)\n",
    "\n",
    "for m in min_df:\n",
    "    #create the vocabulary based on the training data\n",
    "    vect = TfidfVectorizer(min_df=m, ngram_range=(1,2)).fit(X_train)\n",
    "\n",
    "    #encode the words in X_train and X_val based on the vocabulary\n",
    "    X_train_vectorized = vect.transform(X_train)\n",
    "    X_val_vectorized = vect.transform(X_val)\n",
    "\n",
    "    ovo = OneVsOneClassifier(LogisticRegression(n_jobs = -1))\n",
    "    ovo.fit(X_train_vectorized, y_train)\n",
    "    train_score = ovo.score(X_train_vectorized, y_train)\n",
    "    val_score = ovo.score(X_val_vectorized, y_val)\n",
    "\n",
    "    print(m)\n",
    "    print(f\"train score: {train_score}\")\n",
    "    print(f\"validation score: {val_score}\")"
   ]
  },
  {
   "cell_type": "code",
   "execution_count": 17,
   "id": "68e341d0",
   "metadata": {},
   "outputs": [
    {
     "name": "stderr",
     "output_type": "stream",
     "text": [
      "C:\\Users\\user\\anaconda3\\lib\\site-packages\\sklearn\\linear_model\\_logistic.py:763: ConvergenceWarning: lbfgs failed to converge (status=1):\n",
      "STOP: TOTAL NO. of ITERATIONS REACHED LIMIT.\n",
      "\n",
      "Increase the number of iterations (max_iter) or scale the data as shown in:\n",
      "    https://scikit-learn.org/stable/modules/preprocessing.html\n",
      "Please also refer to the documentation for alternative solver options:\n",
      "    https://scikit-learn.org/stable/modules/linear_model.html#logistic-regression\n",
      "  n_iter_i = _check_optimize_result(\n",
      "C:\\Users\\user\\anaconda3\\lib\\site-packages\\sklearn\\linear_model\\_logistic.py:763: ConvergenceWarning: lbfgs failed to converge (status=1):\n",
      "STOP: TOTAL NO. of ITERATIONS REACHED LIMIT.\n",
      "\n",
      "Increase the number of iterations (max_iter) or scale the data as shown in:\n",
      "    https://scikit-learn.org/stable/modules/preprocessing.html\n",
      "Please also refer to the documentation for alternative solver options:\n",
      "    https://scikit-learn.org/stable/modules/linear_model.html#logistic-regression\n",
      "  n_iter_i = _check_optimize_result(\n",
      "C:\\Users\\user\\anaconda3\\lib\\site-packages\\sklearn\\linear_model\\_logistic.py:763: ConvergenceWarning: lbfgs failed to converge (status=1):\n",
      "STOP: TOTAL NO. of ITERATIONS REACHED LIMIT.\n",
      "\n",
      "Increase the number of iterations (max_iter) or scale the data as shown in:\n",
      "    https://scikit-learn.org/stable/modules/preprocessing.html\n",
      "Please also refer to the documentation for alternative solver options:\n",
      "    https://scikit-learn.org/stable/modules/linear_model.html#logistic-regression\n",
      "  n_iter_i = _check_optimize_result(\n",
      "C:\\Users\\user\\anaconda3\\lib\\site-packages\\sklearn\\linear_model\\_logistic.py:763: ConvergenceWarning: lbfgs failed to converge (status=1):\n",
      "STOP: TOTAL NO. of ITERATIONS REACHED LIMIT.\n",
      "\n",
      "Increase the number of iterations (max_iter) or scale the data as shown in:\n",
      "    https://scikit-learn.org/stable/modules/preprocessing.html\n",
      "Please also refer to the documentation for alternative solver options:\n",
      "    https://scikit-learn.org/stable/modules/linear_model.html#logistic-regression\n",
      "  n_iter_i = _check_optimize_result(\n"
     ]
    },
    {
     "ename": "NotFittedError",
     "evalue": "This LogisticRegression instance is not fitted yet. Call 'fit' with appropriate arguments before using this estimator.",
     "output_type": "error",
     "traceback": [
      "\u001b[1;31m---------------------------------------------------------------------------\u001b[0m",
      "\u001b[1;31mNotFittedError\u001b[0m                            Traceback (most recent call last)",
      "\u001b[1;32m~\\AppData\\Local\\Temp/ipykernel_23824/3520667759.py\u001b[0m in \u001b[0;36m<module>\u001b[1;34m\u001b[0m\n\u001b[0;32m     13\u001b[0m     \u001b[0movr\u001b[0m \u001b[1;33m=\u001b[0m \u001b[0mOneVsRestClassifier\u001b[0m\u001b[1;33m(\u001b[0m\u001b[0mLogisticRegression\u001b[0m\u001b[1;33m(\u001b[0m\u001b[1;33m)\u001b[0m\u001b[1;33m)\u001b[0m\u001b[1;33m\u001b[0m\u001b[1;33m\u001b[0m\u001b[0m\n\u001b[0;32m     14\u001b[0m     \u001b[0movr\u001b[0m\u001b[1;33m.\u001b[0m\u001b[0mfit\u001b[0m\u001b[1;33m(\u001b[0m\u001b[0mX_train_vectorized\u001b[0m\u001b[1;33m,\u001b[0m \u001b[0my_train\u001b[0m\u001b[1;33m)\u001b[0m\u001b[1;33m\u001b[0m\u001b[1;33m\u001b[0m\u001b[0m\n\u001b[1;32m---> 15\u001b[1;33m     \u001b[0mtrain_score\u001b[0m \u001b[1;33m=\u001b[0m \u001b[0mlr\u001b[0m\u001b[1;33m.\u001b[0m\u001b[0mscore\u001b[0m\u001b[1;33m(\u001b[0m\u001b[0mX_train_vectorized\u001b[0m\u001b[1;33m,\u001b[0m \u001b[0my_train\u001b[0m\u001b[1;33m)\u001b[0m\u001b[1;33m\u001b[0m\u001b[1;33m\u001b[0m\u001b[0m\n\u001b[0m\u001b[0;32m     16\u001b[0m     \u001b[0mval_score\u001b[0m \u001b[1;33m=\u001b[0m \u001b[0mlr\u001b[0m\u001b[1;33m.\u001b[0m\u001b[0mscore\u001b[0m\u001b[1;33m(\u001b[0m\u001b[0mX_val_vectorized\u001b[0m\u001b[1;33m,\u001b[0m \u001b[0my_val\u001b[0m\u001b[1;33m)\u001b[0m\u001b[1;33m\u001b[0m\u001b[1;33m\u001b[0m\u001b[0m\n\u001b[0;32m     17\u001b[0m \u001b[1;33m\u001b[0m\u001b[0m\n",
      "\u001b[1;32m~\\anaconda3\\lib\\site-packages\\sklearn\\base.py\u001b[0m in \u001b[0;36mscore\u001b[1;34m(self, X, y, sample_weight)\u001b[0m\n\u001b[0;32m    498\u001b[0m         \"\"\"\n\u001b[0;32m    499\u001b[0m         \u001b[1;32mfrom\u001b[0m \u001b[1;33m.\u001b[0m\u001b[0mmetrics\u001b[0m \u001b[1;32mimport\u001b[0m \u001b[0maccuracy_score\u001b[0m\u001b[1;33m\u001b[0m\u001b[1;33m\u001b[0m\u001b[0m\n\u001b[1;32m--> 500\u001b[1;33m         \u001b[1;32mreturn\u001b[0m \u001b[0maccuracy_score\u001b[0m\u001b[1;33m(\u001b[0m\u001b[0my\u001b[0m\u001b[1;33m,\u001b[0m \u001b[0mself\u001b[0m\u001b[1;33m.\u001b[0m\u001b[0mpredict\u001b[0m\u001b[1;33m(\u001b[0m\u001b[0mX\u001b[0m\u001b[1;33m)\u001b[0m\u001b[1;33m,\u001b[0m \u001b[0msample_weight\u001b[0m\u001b[1;33m=\u001b[0m\u001b[0msample_weight\u001b[0m\u001b[1;33m)\u001b[0m\u001b[1;33m\u001b[0m\u001b[1;33m\u001b[0m\u001b[0m\n\u001b[0m\u001b[0;32m    501\u001b[0m \u001b[1;33m\u001b[0m\u001b[0m\n\u001b[0;32m    502\u001b[0m     \u001b[1;32mdef\u001b[0m \u001b[0m_more_tags\u001b[0m\u001b[1;33m(\u001b[0m\u001b[0mself\u001b[0m\u001b[1;33m)\u001b[0m\u001b[1;33m:\u001b[0m\u001b[1;33m\u001b[0m\u001b[1;33m\u001b[0m\u001b[0m\n",
      "\u001b[1;32m~\\anaconda3\\lib\\site-packages\\sklearn\\linear_model\\_base.py\u001b[0m in \u001b[0;36mpredict\u001b[1;34m(self, X)\u001b[0m\n\u001b[0;32m    307\u001b[0m             \u001b[0mPredicted\u001b[0m \u001b[1;32mclass\u001b[0m \u001b[0mlabel\u001b[0m \u001b[0mper\u001b[0m \u001b[0msample\u001b[0m\u001b[1;33m.\u001b[0m\u001b[1;33m\u001b[0m\u001b[1;33m\u001b[0m\u001b[0m\n\u001b[0;32m    308\u001b[0m         \"\"\"\n\u001b[1;32m--> 309\u001b[1;33m         \u001b[0mscores\u001b[0m \u001b[1;33m=\u001b[0m \u001b[0mself\u001b[0m\u001b[1;33m.\u001b[0m\u001b[0mdecision_function\u001b[0m\u001b[1;33m(\u001b[0m\u001b[0mX\u001b[0m\u001b[1;33m)\u001b[0m\u001b[1;33m\u001b[0m\u001b[1;33m\u001b[0m\u001b[0m\n\u001b[0m\u001b[0;32m    310\u001b[0m         \u001b[1;32mif\u001b[0m \u001b[0mlen\u001b[0m\u001b[1;33m(\u001b[0m\u001b[0mscores\u001b[0m\u001b[1;33m.\u001b[0m\u001b[0mshape\u001b[0m\u001b[1;33m)\u001b[0m \u001b[1;33m==\u001b[0m \u001b[1;36m1\u001b[0m\u001b[1;33m:\u001b[0m\u001b[1;33m\u001b[0m\u001b[1;33m\u001b[0m\u001b[0m\n\u001b[0;32m    311\u001b[0m             \u001b[0mindices\u001b[0m \u001b[1;33m=\u001b[0m \u001b[1;33m(\u001b[0m\u001b[0mscores\u001b[0m \u001b[1;33m>\u001b[0m \u001b[1;36m0\u001b[0m\u001b[1;33m)\u001b[0m\u001b[1;33m.\u001b[0m\u001b[0mastype\u001b[0m\u001b[1;33m(\u001b[0m\u001b[0mint\u001b[0m\u001b[1;33m)\u001b[0m\u001b[1;33m\u001b[0m\u001b[1;33m\u001b[0m\u001b[0m\n",
      "\u001b[1;32m~\\anaconda3\\lib\\site-packages\\sklearn\\linear_model\\_base.py\u001b[0m in \u001b[0;36mdecision_function\u001b[1;34m(self, X)\u001b[0m\n\u001b[0;32m    280\u001b[0m             \u001b[1;32mclass\u001b[0m \u001b[0mwould\u001b[0m \u001b[0mbe\u001b[0m \u001b[0mpredicted\u001b[0m\u001b[1;33m.\u001b[0m\u001b[1;33m\u001b[0m\u001b[1;33m\u001b[0m\u001b[0m\n\u001b[0;32m    281\u001b[0m         \"\"\"\n\u001b[1;32m--> 282\u001b[1;33m         \u001b[0mcheck_is_fitted\u001b[0m\u001b[1;33m(\u001b[0m\u001b[0mself\u001b[0m\u001b[1;33m)\u001b[0m\u001b[1;33m\u001b[0m\u001b[1;33m\u001b[0m\u001b[0m\n\u001b[0m\u001b[0;32m    283\u001b[0m \u001b[1;33m\u001b[0m\u001b[0m\n\u001b[0;32m    284\u001b[0m         \u001b[0mX\u001b[0m \u001b[1;33m=\u001b[0m \u001b[0mcheck_array\u001b[0m\u001b[1;33m(\u001b[0m\u001b[0mX\u001b[0m\u001b[1;33m,\u001b[0m \u001b[0maccept_sparse\u001b[0m\u001b[1;33m=\u001b[0m\u001b[1;34m'csr'\u001b[0m\u001b[1;33m)\u001b[0m\u001b[1;33m\u001b[0m\u001b[1;33m\u001b[0m\u001b[0m\n",
      "\u001b[1;32m~\\anaconda3\\lib\\site-packages\\sklearn\\utils\\validation.py\u001b[0m in \u001b[0;36minner_f\u001b[1;34m(*args, **kwargs)\u001b[0m\n\u001b[0;32m     61\u001b[0m             \u001b[0mextra_args\u001b[0m \u001b[1;33m=\u001b[0m \u001b[0mlen\u001b[0m\u001b[1;33m(\u001b[0m\u001b[0margs\u001b[0m\u001b[1;33m)\u001b[0m \u001b[1;33m-\u001b[0m \u001b[0mlen\u001b[0m\u001b[1;33m(\u001b[0m\u001b[0mall_args\u001b[0m\u001b[1;33m)\u001b[0m\u001b[1;33m\u001b[0m\u001b[1;33m\u001b[0m\u001b[0m\n\u001b[0;32m     62\u001b[0m             \u001b[1;32mif\u001b[0m \u001b[0mextra_args\u001b[0m \u001b[1;33m<=\u001b[0m \u001b[1;36m0\u001b[0m\u001b[1;33m:\u001b[0m\u001b[1;33m\u001b[0m\u001b[1;33m\u001b[0m\u001b[0m\n\u001b[1;32m---> 63\u001b[1;33m                 \u001b[1;32mreturn\u001b[0m \u001b[0mf\u001b[0m\u001b[1;33m(\u001b[0m\u001b[1;33m*\u001b[0m\u001b[0margs\u001b[0m\u001b[1;33m,\u001b[0m \u001b[1;33m**\u001b[0m\u001b[0mkwargs\u001b[0m\u001b[1;33m)\u001b[0m\u001b[1;33m\u001b[0m\u001b[1;33m\u001b[0m\u001b[0m\n\u001b[0m\u001b[0;32m     64\u001b[0m \u001b[1;33m\u001b[0m\u001b[0m\n\u001b[0;32m     65\u001b[0m             \u001b[1;31m# extra_args > 0\u001b[0m\u001b[1;33m\u001b[0m\u001b[1;33m\u001b[0m\u001b[0m\n",
      "\u001b[1;32m~\\anaconda3\\lib\\site-packages\\sklearn\\utils\\validation.py\u001b[0m in \u001b[0;36mcheck_is_fitted\u001b[1;34m(estimator, attributes, msg, all_or_any)\u001b[0m\n\u001b[0;32m   1096\u001b[0m \u001b[1;33m\u001b[0m\u001b[0m\n\u001b[0;32m   1097\u001b[0m     \u001b[1;32mif\u001b[0m \u001b[1;32mnot\u001b[0m \u001b[0mattrs\u001b[0m\u001b[1;33m:\u001b[0m\u001b[1;33m\u001b[0m\u001b[1;33m\u001b[0m\u001b[0m\n\u001b[1;32m-> 1098\u001b[1;33m         \u001b[1;32mraise\u001b[0m \u001b[0mNotFittedError\u001b[0m\u001b[1;33m(\u001b[0m\u001b[0mmsg\u001b[0m \u001b[1;33m%\u001b[0m \u001b[1;33m{\u001b[0m\u001b[1;34m'name'\u001b[0m\u001b[1;33m:\u001b[0m \u001b[0mtype\u001b[0m\u001b[1;33m(\u001b[0m\u001b[0mestimator\u001b[0m\u001b[1;33m)\u001b[0m\u001b[1;33m.\u001b[0m\u001b[0m__name__\u001b[0m\u001b[1;33m}\u001b[0m\u001b[1;33m)\u001b[0m\u001b[1;33m\u001b[0m\u001b[1;33m\u001b[0m\u001b[0m\n\u001b[0m\u001b[0;32m   1099\u001b[0m \u001b[1;33m\u001b[0m\u001b[0m\n\u001b[0;32m   1100\u001b[0m \u001b[1;33m\u001b[0m\u001b[0m\n",
      "\u001b[1;31mNotFittedError\u001b[0m: This LogisticRegression instance is not fitted yet. Call 'fit' with appropriate arguments before using this estimator."
     ]
    }
   ],
   "source": [
    "#Logistic regression, One-vs-Rest method \n",
    "# Range of min_df values from 0-10\n",
    "min_df = range(11)\n",
    "\n",
    "for m in min_df:\n",
    "    #create the vocabulary based on the training data\n",
    "    vect = TfidfVectorizer(min_df=m, ngram_range=(1,2)).fit(X_train)\n",
    "\n",
    "    #encode the words in X_train and X_val based on the vocabulary\n",
    "    X_train_vectorized = vect.transform(X_train)\n",
    "    X_val_vectorized = vect.transform(X_val)\n",
    "\n",
    "    ovr = OneVsRestClassifier(LogisticRegression(n_jobs = -1))\n",
    "    ovr.fit(X_train_vectorized, y_train)\n",
    "    train_score = lr.score(X_train_vectorized, y_train)\n",
    "    val_score = lr.score(X_val_vectorized, y_val)\n",
    "\n",
    "    print(m)\n",
    "    print(f\"train score: {train_score}\")\n",
    "    print(f\"validation score: {val_score}\")"
   ]
  },
  {
   "cell_type": "markdown",
   "id": "e851f582",
   "metadata": {},
   "source": [
    "### KNN"
   ]
  },
  {
   "cell_type": "code",
   "execution_count": 6,
   "id": "11d82b32",
   "metadata": {
    "scrolled": true
   },
   "outputs": [
    {
     "name": "stdout",
     "output_type": "stream",
     "text": [
      "0\n",
      "train score: 0.7332356145072408\n",
      "validation score: 0.6162053056516724\n",
      "1\n",
      "train score: 0.7332356145072408\n",
      "validation score: 0.6162053056516724\n"
     ]
    },
    {
     "ename": "KeyboardInterrupt",
     "evalue": "",
     "output_type": "error",
     "traceback": [
      "\u001b[1;31m---------------------------------------------------------------------------\u001b[0m",
      "\u001b[1;31mKeyboardInterrupt\u001b[0m                         Traceback (most recent call last)",
      "\u001b[1;32m~\\AppData\\Local\\Temp/ipykernel_23824/3540219917.py\u001b[0m in \u001b[0;36m<module>\u001b[1;34m\u001b[0m\n\u001b[0;32m     12\u001b[0m     \u001b[0mknn\u001b[0m \u001b[1;33m=\u001b[0m \u001b[0mKNeighborsClassifier\u001b[0m\u001b[1;33m(\u001b[0m\u001b[0mn_neighbors\u001b[0m\u001b[1;33m=\u001b[0m\u001b[1;36m5\u001b[0m\u001b[1;33m,\u001b[0m \u001b[0mmetric\u001b[0m\u001b[1;33m=\u001b[0m\u001b[1;34m'euclidean'\u001b[0m\u001b[1;33m)\u001b[0m\u001b[1;33m\u001b[0m\u001b[1;33m\u001b[0m\u001b[0m\n\u001b[0;32m     13\u001b[0m     \u001b[0mknn\u001b[0m\u001b[1;33m.\u001b[0m\u001b[0mfit\u001b[0m\u001b[1;33m(\u001b[0m\u001b[0mX_train_vectorized\u001b[0m\u001b[1;33m,\u001b[0m \u001b[0my_train\u001b[0m\u001b[1;33m)\u001b[0m\u001b[1;33m\u001b[0m\u001b[1;33m\u001b[0m\u001b[0m\n\u001b[1;32m---> 14\u001b[1;33m     \u001b[0mtrain_score\u001b[0m \u001b[1;33m=\u001b[0m \u001b[0mknn\u001b[0m\u001b[1;33m.\u001b[0m\u001b[0mscore\u001b[0m\u001b[1;33m(\u001b[0m\u001b[0mX_train_vectorized\u001b[0m\u001b[1;33m,\u001b[0m \u001b[0my_train\u001b[0m\u001b[1;33m)\u001b[0m\u001b[1;33m\u001b[0m\u001b[1;33m\u001b[0m\u001b[0m\n\u001b[0m\u001b[0;32m     15\u001b[0m     \u001b[0mval_score\u001b[0m \u001b[1;33m=\u001b[0m \u001b[0mknn\u001b[0m\u001b[1;33m.\u001b[0m\u001b[0mscore\u001b[0m\u001b[1;33m(\u001b[0m\u001b[0mX_val_vectorized\u001b[0m\u001b[1;33m,\u001b[0m \u001b[0my_val\u001b[0m\u001b[1;33m)\u001b[0m\u001b[1;33m\u001b[0m\u001b[1;33m\u001b[0m\u001b[0m\n\u001b[0;32m     16\u001b[0m \u001b[1;33m\u001b[0m\u001b[0m\n",
      "\u001b[1;32m~\\anaconda3\\lib\\site-packages\\sklearn\\base.py\u001b[0m in \u001b[0;36mscore\u001b[1;34m(self, X, y, sample_weight)\u001b[0m\n\u001b[0;32m    498\u001b[0m         \"\"\"\n\u001b[0;32m    499\u001b[0m         \u001b[1;32mfrom\u001b[0m \u001b[1;33m.\u001b[0m\u001b[0mmetrics\u001b[0m \u001b[1;32mimport\u001b[0m \u001b[0maccuracy_score\u001b[0m\u001b[1;33m\u001b[0m\u001b[1;33m\u001b[0m\u001b[0m\n\u001b[1;32m--> 500\u001b[1;33m         \u001b[1;32mreturn\u001b[0m \u001b[0maccuracy_score\u001b[0m\u001b[1;33m(\u001b[0m\u001b[0my\u001b[0m\u001b[1;33m,\u001b[0m \u001b[0mself\u001b[0m\u001b[1;33m.\u001b[0m\u001b[0mpredict\u001b[0m\u001b[1;33m(\u001b[0m\u001b[0mX\u001b[0m\u001b[1;33m)\u001b[0m\u001b[1;33m,\u001b[0m \u001b[0msample_weight\u001b[0m\u001b[1;33m=\u001b[0m\u001b[0msample_weight\u001b[0m\u001b[1;33m)\u001b[0m\u001b[1;33m\u001b[0m\u001b[1;33m\u001b[0m\u001b[0m\n\u001b[0m\u001b[0;32m    501\u001b[0m \u001b[1;33m\u001b[0m\u001b[0m\n\u001b[0;32m    502\u001b[0m     \u001b[1;32mdef\u001b[0m \u001b[0m_more_tags\u001b[0m\u001b[1;33m(\u001b[0m\u001b[0mself\u001b[0m\u001b[1;33m)\u001b[0m\u001b[1;33m:\u001b[0m\u001b[1;33m\u001b[0m\u001b[1;33m\u001b[0m\u001b[0m\n",
      "\u001b[1;32m~\\anaconda3\\lib\\site-packages\\sklearn\\neighbors\\_classification.py\u001b[0m in \u001b[0;36mpredict\u001b[1;34m(self, X)\u001b[0m\n\u001b[0;32m    195\u001b[0m         \u001b[0mX\u001b[0m \u001b[1;33m=\u001b[0m \u001b[0mcheck_array\u001b[0m\u001b[1;33m(\u001b[0m\u001b[0mX\u001b[0m\u001b[1;33m,\u001b[0m \u001b[0maccept_sparse\u001b[0m\u001b[1;33m=\u001b[0m\u001b[1;34m'csr'\u001b[0m\u001b[1;33m)\u001b[0m\u001b[1;33m\u001b[0m\u001b[1;33m\u001b[0m\u001b[0m\n\u001b[0;32m    196\u001b[0m \u001b[1;33m\u001b[0m\u001b[0m\n\u001b[1;32m--> 197\u001b[1;33m         \u001b[0mneigh_dist\u001b[0m\u001b[1;33m,\u001b[0m \u001b[0mneigh_ind\u001b[0m \u001b[1;33m=\u001b[0m \u001b[0mself\u001b[0m\u001b[1;33m.\u001b[0m\u001b[0mkneighbors\u001b[0m\u001b[1;33m(\u001b[0m\u001b[0mX\u001b[0m\u001b[1;33m)\u001b[0m\u001b[1;33m\u001b[0m\u001b[1;33m\u001b[0m\u001b[0m\n\u001b[0m\u001b[0;32m    198\u001b[0m         \u001b[0mclasses_\u001b[0m \u001b[1;33m=\u001b[0m \u001b[0mself\u001b[0m\u001b[1;33m.\u001b[0m\u001b[0mclasses_\u001b[0m\u001b[1;33m\u001b[0m\u001b[1;33m\u001b[0m\u001b[0m\n\u001b[0;32m    199\u001b[0m         \u001b[0m_y\u001b[0m \u001b[1;33m=\u001b[0m \u001b[0mself\u001b[0m\u001b[1;33m.\u001b[0m\u001b[0m_y\u001b[0m\u001b[1;33m\u001b[0m\u001b[1;33m\u001b[0m\u001b[0m\n",
      "\u001b[1;32m~\\anaconda3\\lib\\site-packages\\sklearn\\neighbors\\_base.py\u001b[0m in \u001b[0;36mkneighbors\u001b[1;34m(self, X, n_neighbors, return_distance)\u001b[0m\n\u001b[0;32m    703\u001b[0m                 \u001b[0mkwds\u001b[0m \u001b[1;33m=\u001b[0m \u001b[0mself\u001b[0m\u001b[1;33m.\u001b[0m\u001b[0meffective_metric_params_\u001b[0m\u001b[1;33m\u001b[0m\u001b[1;33m\u001b[0m\u001b[0m\n\u001b[0;32m    704\u001b[0m \u001b[1;33m\u001b[0m\u001b[0m\n\u001b[1;32m--> 705\u001b[1;33m             chunked_results = list(pairwise_distances_chunked(\n\u001b[0m\u001b[0;32m    706\u001b[0m                 \u001b[0mX\u001b[0m\u001b[1;33m,\u001b[0m \u001b[0mself\u001b[0m\u001b[1;33m.\u001b[0m\u001b[0m_fit_X\u001b[0m\u001b[1;33m,\u001b[0m \u001b[0mreduce_func\u001b[0m\u001b[1;33m=\u001b[0m\u001b[0mreduce_func\u001b[0m\u001b[1;33m,\u001b[0m\u001b[1;33m\u001b[0m\u001b[1;33m\u001b[0m\u001b[0m\n\u001b[0;32m    707\u001b[0m                 \u001b[0mmetric\u001b[0m\u001b[1;33m=\u001b[0m\u001b[0mself\u001b[0m\u001b[1;33m.\u001b[0m\u001b[0meffective_metric_\u001b[0m\u001b[1;33m,\u001b[0m \u001b[0mn_jobs\u001b[0m\u001b[1;33m=\u001b[0m\u001b[0mn_jobs\u001b[0m\u001b[1;33m,\u001b[0m\u001b[1;33m\u001b[0m\u001b[1;33m\u001b[0m\u001b[0m\n",
      "\u001b[1;32m~\\anaconda3\\lib\\site-packages\\sklearn\\metrics\\pairwise.py\u001b[0m in \u001b[0;36mpairwise_distances_chunked\u001b[1;34m(X, Y, reduce_func, metric, n_jobs, working_memory, **kwds)\u001b[0m\n\u001b[0;32m   1621\u001b[0m         \u001b[1;32melse\u001b[0m\u001b[1;33m:\u001b[0m\u001b[1;33m\u001b[0m\u001b[1;33m\u001b[0m\u001b[0m\n\u001b[0;32m   1622\u001b[0m             \u001b[0mX_chunk\u001b[0m \u001b[1;33m=\u001b[0m \u001b[0mX\u001b[0m\u001b[1;33m[\u001b[0m\u001b[0msl\u001b[0m\u001b[1;33m]\u001b[0m\u001b[1;33m\u001b[0m\u001b[1;33m\u001b[0m\u001b[0m\n\u001b[1;32m-> 1623\u001b[1;33m         D_chunk = pairwise_distances(X_chunk, Y, metric=metric,\n\u001b[0m\u001b[0;32m   1624\u001b[0m                                      n_jobs=n_jobs, **kwds)\n\u001b[0;32m   1625\u001b[0m         if ((X is Y or Y is None)\n",
      "\u001b[1;32m~\\anaconda3\\lib\\site-packages\\sklearn\\utils\\validation.py\u001b[0m in \u001b[0;36minner_f\u001b[1;34m(*args, **kwargs)\u001b[0m\n\u001b[0;32m     61\u001b[0m             \u001b[0mextra_args\u001b[0m \u001b[1;33m=\u001b[0m \u001b[0mlen\u001b[0m\u001b[1;33m(\u001b[0m\u001b[0margs\u001b[0m\u001b[1;33m)\u001b[0m \u001b[1;33m-\u001b[0m \u001b[0mlen\u001b[0m\u001b[1;33m(\u001b[0m\u001b[0mall_args\u001b[0m\u001b[1;33m)\u001b[0m\u001b[1;33m\u001b[0m\u001b[1;33m\u001b[0m\u001b[0m\n\u001b[0;32m     62\u001b[0m             \u001b[1;32mif\u001b[0m \u001b[0mextra_args\u001b[0m \u001b[1;33m<=\u001b[0m \u001b[1;36m0\u001b[0m\u001b[1;33m:\u001b[0m\u001b[1;33m\u001b[0m\u001b[1;33m\u001b[0m\u001b[0m\n\u001b[1;32m---> 63\u001b[1;33m                 \u001b[1;32mreturn\u001b[0m \u001b[0mf\u001b[0m\u001b[1;33m(\u001b[0m\u001b[1;33m*\u001b[0m\u001b[0margs\u001b[0m\u001b[1;33m,\u001b[0m \u001b[1;33m**\u001b[0m\u001b[0mkwargs\u001b[0m\u001b[1;33m)\u001b[0m\u001b[1;33m\u001b[0m\u001b[1;33m\u001b[0m\u001b[0m\n\u001b[0m\u001b[0;32m     64\u001b[0m \u001b[1;33m\u001b[0m\u001b[0m\n\u001b[0;32m     65\u001b[0m             \u001b[1;31m# extra_args > 0\u001b[0m\u001b[1;33m\u001b[0m\u001b[1;33m\u001b[0m\u001b[0m\n",
      "\u001b[1;32m~\\anaconda3\\lib\\site-packages\\sklearn\\metrics\\pairwise.py\u001b[0m in \u001b[0;36mpairwise_distances\u001b[1;34m(X, Y, metric, n_jobs, force_all_finite, **kwds)\u001b[0m\n\u001b[0;32m   1788\u001b[0m         \u001b[0mfunc\u001b[0m \u001b[1;33m=\u001b[0m \u001b[0mpartial\u001b[0m\u001b[1;33m(\u001b[0m\u001b[0mdistance\u001b[0m\u001b[1;33m.\u001b[0m\u001b[0mcdist\u001b[0m\u001b[1;33m,\u001b[0m \u001b[0mmetric\u001b[0m\u001b[1;33m=\u001b[0m\u001b[0mmetric\u001b[0m\u001b[1;33m,\u001b[0m \u001b[1;33m**\u001b[0m\u001b[0mkwds\u001b[0m\u001b[1;33m)\u001b[0m\u001b[1;33m\u001b[0m\u001b[1;33m\u001b[0m\u001b[0m\n\u001b[0;32m   1789\u001b[0m \u001b[1;33m\u001b[0m\u001b[0m\n\u001b[1;32m-> 1790\u001b[1;33m     \u001b[1;32mreturn\u001b[0m \u001b[0m_parallel_pairwise\u001b[0m\u001b[1;33m(\u001b[0m\u001b[0mX\u001b[0m\u001b[1;33m,\u001b[0m \u001b[0mY\u001b[0m\u001b[1;33m,\u001b[0m \u001b[0mfunc\u001b[0m\u001b[1;33m,\u001b[0m \u001b[0mn_jobs\u001b[0m\u001b[1;33m,\u001b[0m \u001b[1;33m**\u001b[0m\u001b[0mkwds\u001b[0m\u001b[1;33m)\u001b[0m\u001b[1;33m\u001b[0m\u001b[1;33m\u001b[0m\u001b[0m\n\u001b[0m\u001b[0;32m   1791\u001b[0m \u001b[1;33m\u001b[0m\u001b[0m\n\u001b[0;32m   1792\u001b[0m \u001b[1;33m\u001b[0m\u001b[0m\n",
      "\u001b[1;32m~\\anaconda3\\lib\\site-packages\\sklearn\\metrics\\pairwise.py\u001b[0m in \u001b[0;36m_parallel_pairwise\u001b[1;34m(X, Y, func, n_jobs, **kwds)\u001b[0m\n\u001b[0;32m   1357\u001b[0m \u001b[1;33m\u001b[0m\u001b[0m\n\u001b[0;32m   1358\u001b[0m     \u001b[1;32mif\u001b[0m \u001b[0meffective_n_jobs\u001b[0m\u001b[1;33m(\u001b[0m\u001b[0mn_jobs\u001b[0m\u001b[1;33m)\u001b[0m \u001b[1;33m==\u001b[0m \u001b[1;36m1\u001b[0m\u001b[1;33m:\u001b[0m\u001b[1;33m\u001b[0m\u001b[1;33m\u001b[0m\u001b[0m\n\u001b[1;32m-> 1359\u001b[1;33m         \u001b[1;32mreturn\u001b[0m \u001b[0mfunc\u001b[0m\u001b[1;33m(\u001b[0m\u001b[0mX\u001b[0m\u001b[1;33m,\u001b[0m \u001b[0mY\u001b[0m\u001b[1;33m,\u001b[0m \u001b[1;33m**\u001b[0m\u001b[0mkwds\u001b[0m\u001b[1;33m)\u001b[0m\u001b[1;33m\u001b[0m\u001b[1;33m\u001b[0m\u001b[0m\n\u001b[0m\u001b[0;32m   1360\u001b[0m \u001b[1;33m\u001b[0m\u001b[0m\n\u001b[0;32m   1361\u001b[0m     \u001b[1;31m# enforce a threading backend to prevent data communication overhead\u001b[0m\u001b[1;33m\u001b[0m\u001b[1;33m\u001b[0m\u001b[0m\n",
      "\u001b[1;32m~\\anaconda3\\lib\\site-packages\\sklearn\\utils\\validation.py\u001b[0m in \u001b[0;36minner_f\u001b[1;34m(*args, **kwargs)\u001b[0m\n\u001b[0;32m     61\u001b[0m             \u001b[0mextra_args\u001b[0m \u001b[1;33m=\u001b[0m \u001b[0mlen\u001b[0m\u001b[1;33m(\u001b[0m\u001b[0margs\u001b[0m\u001b[1;33m)\u001b[0m \u001b[1;33m-\u001b[0m \u001b[0mlen\u001b[0m\u001b[1;33m(\u001b[0m\u001b[0mall_args\u001b[0m\u001b[1;33m)\u001b[0m\u001b[1;33m\u001b[0m\u001b[1;33m\u001b[0m\u001b[0m\n\u001b[0;32m     62\u001b[0m             \u001b[1;32mif\u001b[0m \u001b[0mextra_args\u001b[0m \u001b[1;33m<=\u001b[0m \u001b[1;36m0\u001b[0m\u001b[1;33m:\u001b[0m\u001b[1;33m\u001b[0m\u001b[1;33m\u001b[0m\u001b[0m\n\u001b[1;32m---> 63\u001b[1;33m                 \u001b[1;32mreturn\u001b[0m \u001b[0mf\u001b[0m\u001b[1;33m(\u001b[0m\u001b[1;33m*\u001b[0m\u001b[0margs\u001b[0m\u001b[1;33m,\u001b[0m \u001b[1;33m**\u001b[0m\u001b[0mkwargs\u001b[0m\u001b[1;33m)\u001b[0m\u001b[1;33m\u001b[0m\u001b[1;33m\u001b[0m\u001b[0m\n\u001b[0m\u001b[0;32m     64\u001b[0m \u001b[1;33m\u001b[0m\u001b[0m\n\u001b[0;32m     65\u001b[0m             \u001b[1;31m# extra_args > 0\u001b[0m\u001b[1;33m\u001b[0m\u001b[1;33m\u001b[0m\u001b[0m\n",
      "\u001b[1;32m~\\anaconda3\\lib\\site-packages\\sklearn\\metrics\\pairwise.py\u001b[0m in \u001b[0;36meuclidean_distances\u001b[1;34m(X, Y, Y_norm_squared, squared, X_norm_squared)\u001b[0m\n\u001b[0;32m    313\u001b[0m         \u001b[0mdistances\u001b[0m \u001b[1;33m=\u001b[0m \u001b[1;33m-\u001b[0m \u001b[1;36m2\u001b[0m \u001b[1;33m*\u001b[0m \u001b[0msafe_sparse_dot\u001b[0m\u001b[1;33m(\u001b[0m\u001b[0mX\u001b[0m\u001b[1;33m,\u001b[0m \u001b[0mY\u001b[0m\u001b[1;33m.\u001b[0m\u001b[0mT\u001b[0m\u001b[1;33m,\u001b[0m \u001b[0mdense_output\u001b[0m\u001b[1;33m=\u001b[0m\u001b[1;32mTrue\u001b[0m\u001b[1;33m)\u001b[0m\u001b[1;33m\u001b[0m\u001b[1;33m\u001b[0m\u001b[0m\n\u001b[0;32m    314\u001b[0m         \u001b[0mdistances\u001b[0m \u001b[1;33m+=\u001b[0m \u001b[0mXX\u001b[0m\u001b[1;33m\u001b[0m\u001b[1;33m\u001b[0m\u001b[0m\n\u001b[1;32m--> 315\u001b[1;33m         \u001b[0mdistances\u001b[0m \u001b[1;33m+=\u001b[0m \u001b[0mYY\u001b[0m\u001b[1;33m\u001b[0m\u001b[1;33m\u001b[0m\u001b[0m\n\u001b[0m\u001b[0;32m    316\u001b[0m     \u001b[0mnp\u001b[0m\u001b[1;33m.\u001b[0m\u001b[0mmaximum\u001b[0m\u001b[1;33m(\u001b[0m\u001b[0mdistances\u001b[0m\u001b[1;33m,\u001b[0m \u001b[1;36m0\u001b[0m\u001b[1;33m,\u001b[0m \u001b[0mout\u001b[0m\u001b[1;33m=\u001b[0m\u001b[0mdistances\u001b[0m\u001b[1;33m)\u001b[0m\u001b[1;33m\u001b[0m\u001b[1;33m\u001b[0m\u001b[0m\n\u001b[0;32m    317\u001b[0m \u001b[1;33m\u001b[0m\u001b[0m\n",
      "\u001b[1;31mKeyboardInterrupt\u001b[0m: "
     ]
    }
   ],
   "source": [
    "# Range of min_df values from 0-10\n",
    "min_df = range(11)\n",
    "\n",
    "for m in min_df:\n",
    "    #create the vocabulary based on the training data\n",
    "    vect = TfidfVectorizer(min_df=m, ngram_range=(1,2)).fit(X_train)\n",
    "\n",
    "    #encode the words in X_train and X_val based on the vocabulary\n",
    "    X_train_vectorized = vect.transform(X_train)\n",
    "    X_val_vectorized = vect.transform(X_val)\n",
    "\n",
    "    knn = KNeighborsClassifier(n_neighbors=5, metric='euclidean')\n",
    "    knn.fit(X_train_vectorized, y_train)\n",
    "    train_score = knn.score(X_train_vectorized, y_train)\n",
    "    val_score = knn.score(X_val_vectorized, y_val)\n",
    "\n",
    "    print(m)\n",
    "    print(f\"train score: {train_score}\")\n",
    "    print(f\"validation score: {val_score}\")"
   ]
  },
  {
   "cell_type": "code",
   "execution_count": 7,
   "id": "7e5fac5b",
   "metadata": {},
   "outputs": [
    {
     "ename": "KeyboardInterrupt",
     "evalue": "",
     "output_type": "error",
     "traceback": [
      "\u001b[1;31m---------------------------------------------------------------------------\u001b[0m",
      "\u001b[1;31mKeyboardInterrupt\u001b[0m                         Traceback (most recent call last)",
      "\u001b[1;32m~\\AppData\\Local\\Temp/ipykernel_23824/2376938671.py\u001b[0m in \u001b[0;36m<module>\u001b[1;34m\u001b[0m\n\u001b[0;32m      3\u001b[0m \u001b[1;33m\u001b[0m\u001b[0m\n\u001b[0;32m      4\u001b[0m \u001b[1;31m#encode the words in X_train and X_val based on the vocabulary\u001b[0m\u001b[1;33m\u001b[0m\u001b[1;33m\u001b[0m\u001b[0m\n\u001b[1;32m----> 5\u001b[1;33m \u001b[0mX_train_vectorized\u001b[0m \u001b[1;33m=\u001b[0m \u001b[0mvect\u001b[0m\u001b[1;33m.\u001b[0m\u001b[0mtransform\u001b[0m\u001b[1;33m(\u001b[0m\u001b[0mX_train\u001b[0m\u001b[1;33m)\u001b[0m\u001b[1;33m\u001b[0m\u001b[1;33m\u001b[0m\u001b[0m\n\u001b[0m\u001b[0;32m      6\u001b[0m \u001b[0mX_val_vectorized\u001b[0m \u001b[1;33m=\u001b[0m \u001b[0mvect\u001b[0m\u001b[1;33m.\u001b[0m\u001b[0mtransform\u001b[0m\u001b[1;33m(\u001b[0m\u001b[0mX_val\u001b[0m\u001b[1;33m)\u001b[0m\u001b[1;33m\u001b[0m\u001b[1;33m\u001b[0m\u001b[0m\n\u001b[0;32m      7\u001b[0m \u001b[1;33m\u001b[0m\u001b[0m\n",
      "\u001b[1;32m~\\anaconda3\\lib\\site-packages\\sklearn\\feature_extraction\\text.py\u001b[0m in \u001b[0;36mtransform\u001b[1;34m(self, raw_documents)\u001b[0m\n\u001b[0;32m   1868\u001b[0m         \u001b[0mcheck_is_fitted\u001b[0m\u001b[1;33m(\u001b[0m\u001b[0mself\u001b[0m\u001b[1;33m,\u001b[0m \u001b[0mmsg\u001b[0m\u001b[1;33m=\u001b[0m\u001b[1;34m'The TF-IDF vectorizer is not fitted'\u001b[0m\u001b[1;33m)\u001b[0m\u001b[1;33m\u001b[0m\u001b[1;33m\u001b[0m\u001b[0m\n\u001b[0;32m   1869\u001b[0m \u001b[1;33m\u001b[0m\u001b[0m\n\u001b[1;32m-> 1870\u001b[1;33m         \u001b[0mX\u001b[0m \u001b[1;33m=\u001b[0m \u001b[0msuper\u001b[0m\u001b[1;33m(\u001b[0m\u001b[1;33m)\u001b[0m\u001b[1;33m.\u001b[0m\u001b[0mtransform\u001b[0m\u001b[1;33m(\u001b[0m\u001b[0mraw_documents\u001b[0m\u001b[1;33m)\u001b[0m\u001b[1;33m\u001b[0m\u001b[1;33m\u001b[0m\u001b[0m\n\u001b[0m\u001b[0;32m   1871\u001b[0m         \u001b[1;32mreturn\u001b[0m \u001b[0mself\u001b[0m\u001b[1;33m.\u001b[0m\u001b[0m_tfidf\u001b[0m\u001b[1;33m.\u001b[0m\u001b[0mtransform\u001b[0m\u001b[1;33m(\u001b[0m\u001b[0mX\u001b[0m\u001b[1;33m,\u001b[0m \u001b[0mcopy\u001b[0m\u001b[1;33m=\u001b[0m\u001b[1;32mFalse\u001b[0m\u001b[1;33m)\u001b[0m\u001b[1;33m\u001b[0m\u001b[1;33m\u001b[0m\u001b[0m\n\u001b[0;32m   1872\u001b[0m \u001b[1;33m\u001b[0m\u001b[0m\n",
      "\u001b[1;32m~\\anaconda3\\lib\\site-packages\\sklearn\\feature_extraction\\text.py\u001b[0m in \u001b[0;36mtransform\u001b[1;34m(self, raw_documents)\u001b[0m\n\u001b[0;32m   1252\u001b[0m \u001b[1;33m\u001b[0m\u001b[0m\n\u001b[0;32m   1253\u001b[0m         \u001b[1;31m# use the same matrix-building strategy as fit_transform\u001b[0m\u001b[1;33m\u001b[0m\u001b[1;33m\u001b[0m\u001b[0m\n\u001b[1;32m-> 1254\u001b[1;33m         \u001b[0m_\u001b[0m\u001b[1;33m,\u001b[0m \u001b[0mX\u001b[0m \u001b[1;33m=\u001b[0m \u001b[0mself\u001b[0m\u001b[1;33m.\u001b[0m\u001b[0m_count_vocab\u001b[0m\u001b[1;33m(\u001b[0m\u001b[0mraw_documents\u001b[0m\u001b[1;33m,\u001b[0m \u001b[0mfixed_vocab\u001b[0m\u001b[1;33m=\u001b[0m\u001b[1;32mTrue\u001b[0m\u001b[1;33m)\u001b[0m\u001b[1;33m\u001b[0m\u001b[1;33m\u001b[0m\u001b[0m\n\u001b[0m\u001b[0;32m   1255\u001b[0m         \u001b[1;32mif\u001b[0m \u001b[0mself\u001b[0m\u001b[1;33m.\u001b[0m\u001b[0mbinary\u001b[0m\u001b[1;33m:\u001b[0m\u001b[1;33m\u001b[0m\u001b[1;33m\u001b[0m\u001b[0m\n\u001b[0;32m   1256\u001b[0m             \u001b[0mX\u001b[0m\u001b[1;33m.\u001b[0m\u001b[0mdata\u001b[0m\u001b[1;33m.\u001b[0m\u001b[0mfill\u001b[0m\u001b[1;33m(\u001b[0m\u001b[1;36m1\u001b[0m\u001b[1;33m)\u001b[0m\u001b[1;33m\u001b[0m\u001b[1;33m\u001b[0m\u001b[0m\n",
      "\u001b[1;32m~\\anaconda3\\lib\\site-packages\\sklearn\\feature_extraction\\text.py\u001b[0m in \u001b[0;36m_count_vocab\u001b[1;34m(self, raw_documents, fixed_vocab)\u001b[0m\n\u001b[0;32m   1112\u001b[0m         \u001b[1;32mfor\u001b[0m \u001b[0mdoc\u001b[0m \u001b[1;32min\u001b[0m \u001b[0mraw_documents\u001b[0m\u001b[1;33m:\u001b[0m\u001b[1;33m\u001b[0m\u001b[1;33m\u001b[0m\u001b[0m\n\u001b[0;32m   1113\u001b[0m             \u001b[0mfeature_counter\u001b[0m \u001b[1;33m=\u001b[0m \u001b[1;33m{\u001b[0m\u001b[1;33m}\u001b[0m\u001b[1;33m\u001b[0m\u001b[1;33m\u001b[0m\u001b[0m\n\u001b[1;32m-> 1114\u001b[1;33m             \u001b[1;32mfor\u001b[0m \u001b[0mfeature\u001b[0m \u001b[1;32min\u001b[0m \u001b[0manalyze\u001b[0m\u001b[1;33m(\u001b[0m\u001b[0mdoc\u001b[0m\u001b[1;33m)\u001b[0m\u001b[1;33m:\u001b[0m\u001b[1;33m\u001b[0m\u001b[1;33m\u001b[0m\u001b[0m\n\u001b[0m\u001b[0;32m   1115\u001b[0m                 \u001b[1;32mtry\u001b[0m\u001b[1;33m:\u001b[0m\u001b[1;33m\u001b[0m\u001b[1;33m\u001b[0m\u001b[0m\n\u001b[0;32m   1116\u001b[0m                     \u001b[0mfeature_idx\u001b[0m \u001b[1;33m=\u001b[0m \u001b[0mvocabulary\u001b[0m\u001b[1;33m[\u001b[0m\u001b[0mfeature\u001b[0m\u001b[1;33m]\u001b[0m\u001b[1;33m\u001b[0m\u001b[1;33m\u001b[0m\u001b[0m\n",
      "\u001b[1;32m~\\anaconda3\\lib\\site-packages\\sklearn\\feature_extraction\\text.py\u001b[0m in \u001b[0;36m_analyze\u001b[1;34m(doc, analyzer, tokenizer, ngrams, preprocessor, decoder, stop_words)\u001b[0m\n\u001b[0;32m     97\u001b[0m \u001b[1;33m\u001b[0m\u001b[0m\n\u001b[0;32m     98\u001b[0m     \u001b[1;32mif\u001b[0m \u001b[0mdecoder\u001b[0m \u001b[1;32mis\u001b[0m \u001b[1;32mnot\u001b[0m \u001b[1;32mNone\u001b[0m\u001b[1;33m:\u001b[0m\u001b[1;33m\u001b[0m\u001b[1;33m\u001b[0m\u001b[0m\n\u001b[1;32m---> 99\u001b[1;33m         \u001b[0mdoc\u001b[0m \u001b[1;33m=\u001b[0m \u001b[0mdecoder\u001b[0m\u001b[1;33m(\u001b[0m\u001b[0mdoc\u001b[0m\u001b[1;33m)\u001b[0m\u001b[1;33m\u001b[0m\u001b[1;33m\u001b[0m\u001b[0m\n\u001b[0m\u001b[0;32m    100\u001b[0m     \u001b[1;32mif\u001b[0m \u001b[0manalyzer\u001b[0m \u001b[1;32mis\u001b[0m \u001b[1;32mnot\u001b[0m \u001b[1;32mNone\u001b[0m\u001b[1;33m:\u001b[0m\u001b[1;33m\u001b[0m\u001b[1;33m\u001b[0m\u001b[0m\n\u001b[0;32m    101\u001b[0m         \u001b[0mdoc\u001b[0m \u001b[1;33m=\u001b[0m \u001b[0manalyzer\u001b[0m\u001b[1;33m(\u001b[0m\u001b[0mdoc\u001b[0m\u001b[1;33m)\u001b[0m\u001b[1;33m\u001b[0m\u001b[1;33m\u001b[0m\u001b[0m\n",
      "\u001b[1;32m~\\anaconda3\\lib\\site-packages\\sklearn\\feature_extraction\\text.py\u001b[0m in \u001b[0;36mdecode\u001b[1;34m(self, doc)\u001b[0m\n\u001b[0;32m    189\u001b[0m     \u001b[0m_white_spaces\u001b[0m \u001b[1;33m=\u001b[0m \u001b[0mre\u001b[0m\u001b[1;33m.\u001b[0m\u001b[0mcompile\u001b[0m\u001b[1;33m(\u001b[0m\u001b[1;34mr\"\\s\\s+\"\u001b[0m\u001b[1;33m)\u001b[0m\u001b[1;33m\u001b[0m\u001b[1;33m\u001b[0m\u001b[0m\n\u001b[0;32m    190\u001b[0m \u001b[1;33m\u001b[0m\u001b[0m\n\u001b[1;32m--> 191\u001b[1;33m     \u001b[1;32mdef\u001b[0m \u001b[0mdecode\u001b[0m\u001b[1;33m(\u001b[0m\u001b[0mself\u001b[0m\u001b[1;33m,\u001b[0m \u001b[0mdoc\u001b[0m\u001b[1;33m)\u001b[0m\u001b[1;33m:\u001b[0m\u001b[1;33m\u001b[0m\u001b[1;33m\u001b[0m\u001b[0m\n\u001b[0m\u001b[0;32m    192\u001b[0m         \"\"\"Decode the input into a string of unicode symbols.\n\u001b[0;32m    193\u001b[0m \u001b[1;33m\u001b[0m\u001b[0m\n",
      "\u001b[1;31mKeyboardInterrupt\u001b[0m: "
     ]
    }
   ],
   "source": [
    "#create the vocabulary based on the training data\n",
    "vect = TfidfVectorizer(ngram_range=(1,2)).fit(X_train)\n",
    "\n",
    "#encode the words in X_train and X_val based on the vocabulary\n",
    "X_train_vectorized = vect.transform(X_train)\n",
    "X_val_vectorized = vect.transform(X_val)\n",
    "\n",
    "knn = KNeighborsClassifier(n_neighbors=5, metric='euclidean')\n",
    "knn.fit(X_train_vectorized, y_train)\n",
    "train_score = knn.score(X_train_vectorized, y_train)\n",
    "val_score = knn.score(X_val_vectorized, y_val)\n",
    "\n",
    "print(f\"train score: {train_score}\")\n",
    "print(f\"validation score: {val_score}\")"
   ]
  },
  {
   "cell_type": "markdown",
   "id": "30f4e729",
   "metadata": {},
   "source": [
    "### Decision Tree "
   ]
  },
  {
   "cell_type": "code",
   "execution_count": null,
   "id": "5134373e",
   "metadata": {},
   "outputs": [],
   "source": [
    "# # Range of min_df values from 0-10\n",
    "# min_df = range(11)\n",
    "\n",
    "# for m in min_df:\n",
    "#     #create the vocabulary based on the training data\n",
    "#     vect = TfidfVectorizer(min_df=m, ngram_range=(1,2)).fit(X_train)\n",
    "\n",
    "#     #encode the words in X_train and X_val based on the vocabulary\n",
    "#     X_train_vectorized = vect.transform(X_train)\n",
    "#     X_val_vectorized = vect.transform(X_val)\n",
    "\n",
    "#     dtc = DecisionTreeClassifier()\n",
    "#     dtc.fit(X_train_vectorized, y_train)\n",
    "#     train_score = dtc.score(X_train_vectorized, y_train)\n",
    "#     val_score = dtc.score(X_val_vectorized, y_val)\n",
    "\n",
    "#     print(m)\n",
    "#     print(f\"train score: {train_score}\")\n",
    "#     print(f\"validation score: {val_score}\")"
   ]
  },
  {
   "cell_type": "code",
   "execution_count": 8,
   "id": "c38a4eb8",
   "metadata": {},
   "outputs": [
    {
     "name": "stdout",
     "output_type": "stream",
     "text": [
      "train score: 0.9528867102396514\n",
      "validation score: 0.5914071510957324\n"
     ]
    }
   ],
   "source": [
    "# Without pruning conditions\n",
    "#create the vocabulary based on the training data\n",
    "vect = TfidfVectorizer(ngram_range=(1,2)).fit(X_train)\n",
    "\n",
    "#encode the words in X_train and X_val based on the vocabulary\n",
    "X_train_vectorized = vect.transform(X_train)\n",
    "X_val_vectorized = vect.transform(X_val)\n",
    "\n",
    "dtc = DecisionTreeClassifier(random_state=0)\n",
    "dtc.fit(X_train_vectorized, y_train)\n",
    "train_score = dtc.score(X_train_vectorized, y_train)\n",
    "val_score = dtc.score(X_val_vectorized, y_val)\n",
    "\n",
    "print(f\"train score: {train_score}\")\n",
    "print(f\"validation score: {val_score}\")\n"
   ]
  },
  {
   "cell_type": "code",
   "execution_count": 9,
   "id": "5c5c9982",
   "metadata": {},
   "outputs": [
    {
     "name": "stdout",
     "output_type": "stream",
     "text": [
      "Best max depth: 10\n",
      "Best min samples split: 6\n",
      "Best min samples leaf: 3\n",
      "Val MSE: 0.8467576573112905\n",
      "Train score: 0.5359316929386133\n",
      "Val score: 0.5296360374215046\n"
     ]
    }
   ],
   "source": [
    "# Hyperparameters\n",
    "max_depth = [x for x in range(1, 11)]\n",
    "min_samples_split = [x for x in range(2, 11)]\n",
    "min_samples_leaf = [x for x in range(1, 11)]\n",
    "param_grid = {'max_depth': max_depth, 'min_samples_split': min_samples_split, \n",
    "              'min_samples_leaf': min_samples_leaf}\n",
    "\n",
    "#create the vocabulary based on the training data\n",
    "vect = TfidfVectorizer(ngram_range=(1,2)).fit(X_train)\n",
    "\n",
    "#encode the words in X_train and X_val based on the vocabulary\n",
    "X_train_vectorized = vect.transform(X_train)\n",
    "X_val_vectorized = vect.transform(X_val)\n",
    "\n",
    "# Define a DecisionTreeRegressor model\n",
    "dtc = DecisionTreeClassifier(random_state=0)\n",
    "\n",
    "# Perform grid search cv on the gradient boosting model to determine the best\n",
    "# n_estimators, max_depth, and min_samples_split values\n",
    "dtc_cv = RandomizedSearchCV(dtc, param_grid, cv=10, n_jobs=-1, random_state=123)\n",
    "dtc_cv.fit(X_train_vectorized, y_train)\n",
    "\n",
    "# The best parameters\n",
    "best_md = dtc_cv.best_params_['max_depth']\n",
    "best_mss = dtc_cv.best_params_['min_samples_split']\n",
    "best_msl = dtc_cv.best_params_['min_samples_leaf']\n",
    "print('Best max depth: ' + str(best_md))\n",
    "print('Best min samples split: ' + str(best_mss))\n",
    "print('Best min samples leaf: ' + str(best_msl))\n",
    "\n",
    "\n",
    "# Calculate the MSE\n",
    "pred = dtc_cv.predict(X_val_vectorized)\n",
    "mse_gbr = mean_squared_error(y_val, pred)\n",
    "train_score = dtc_cv.score(X_train_vectorized, y_train)\n",
    "val_score = dtc_cv.score(X_val_vectorized, y_val)\n",
    "print(f'Val MSE: {mse_gbr}')\n",
    "print(f'Train score: {train_score}')\n",
    "print(f'Val score: {val_score}')"
   ]
  },
  {
   "cell_type": "code",
   "execution_count": 10,
   "id": "a46263f3",
   "metadata": {},
   "outputs": [
    {
     "data": {
      "image/png": "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\n",
      "text/plain": [
       "<Figure size 432x288 with 1 Axes>"
      ]
     },
     "metadata": {
      "needs_background": "light"
     },
     "output_type": "display_data"
    }
   ],
   "source": [
    "# Plot the tree\n",
    "tree.plot_tree(dtc_cv.best_estimator_)\n",
    "plt.show()"
   ]
  },
  {
   "cell_type": "markdown",
   "id": "164331b3",
   "metadata": {},
   "source": [
    "### Random Forest"
   ]
  },
  {
   "cell_type": "code",
   "execution_count": null,
   "id": "25720678",
   "metadata": {},
   "outputs": [],
   "source": [
    "# Without pruning conditions\n",
    "#create the vocabulary based on the training data\n",
    "vect = TfidfVectorizer(ngram_range=(1,2)).fit(X_train)\n",
    "\n",
    "#encode the words in X_train and X_val based on the vocabulary\n",
    "X_train_vectorized = vect.transform(X_train)\n",
    "X_val_vectorized = vect.transform(X_val)\n",
    "\n",
    "rfc = RandomForestClassifier(random_state=0)\n",
    "rfc.fit(X_train_vectorized, y_train)\n",
    "train_score = rfc.score(X_train_vectorized, y_train)\n",
    "val_score = rfc.score(X_val_vectorized, y_val)\n",
    "\n",
    "print(f\"train score: {train_score}\")\n",
    "print(f\"validation score: {val_score}\")"
   ]
  }
 ],
 "metadata": {
  "kernelspec": {
   "display_name": "Python 3 (ipykernel)",
   "language": "python",
   "name": "python3"
  },
  "language_info": {
   "codemirror_mode": {
    "name": "ipython",
    "version": 3
   },
   "file_extension": ".py",
   "mimetype": "text/x-python",
   "name": "python",
   "nbconvert_exporter": "python",
   "pygments_lexer": "ipython3",
   "version": "3.9.7"
  }
 },
 "nbformat": 4,
 "nbformat_minor": 5
}
