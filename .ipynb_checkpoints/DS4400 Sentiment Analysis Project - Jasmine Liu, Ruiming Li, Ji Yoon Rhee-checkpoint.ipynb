{
 "cells": [
  {
   "cell_type": "code",
   "execution_count": 19,
   "id": "e1a32306",
   "metadata": {},
   "outputs": [],
   "source": [
    "#importing libraries here: \n",
    "import pandas as pd\n",
    "import numpy as np \n",
    "from sklearn.linear_model import LogisticRegression\n",
    "from sklearn.tree import DecisionTreeClassifier\n",
    "from sklearn.naive_bayes import MultinomialNB\n",
    "from sklearn.model_selection import train_test_split\n",
    "from sklearn.feature_extraction.text import CountVectorizer\n",
    "from sklearn.feature_extraction.text import TfidfVectorizer\n",
    "from sklearn.tree import DecisionTreeClassifier\n",
    "from sklearn.model_selection import GridSearchCV\n",
    "from sklearn.neighbors import KNeighborsClassifier\n",
    "from sklearn.metrics import mean_squared_error\n",
    "from sklearn.model_selection import RandomizedSearchCV\n",
    "from sklearn import tree\n",
    "import matplotlib.pyplot as plt\n",
    "from sklearn.ensemble import RandomForestClassifier"
   ]
  },
  {
   "cell_type": "code",
   "execution_count": 2,
   "id": "f5831f39",
   "metadata": {},
   "outputs": [],
   "source": [
    "# Read training and testing data from tsv file\n",
    "train_data = pd.read_csv(\"Data/kaggle_train.tsv\", sep='\\t')\n",
    "test_data = pd.read_csv(\"Data/kaggle_test.tsv\", sep='\\t')"
   ]
  },
  {
   "cell_type": "code",
   "execution_count": 3,
   "id": "eac4e238",
   "metadata": {},
   "outputs": [],
   "source": [
    "X = train_data['Phrase']\n",
    "y = train_data['Sentiment']\n",
    "\n",
    "X_test = test_data['Phrase']\n",
    "\n",
    "# Split train_data into testing and validation sets\n",
    "X_train, X_val, y_train, y_val = train_test_split(X, y, train_size = 0.8, random_state=3000)"
   ]
  },
  {
   "cell_type": "markdown",
   "id": "aa0d3bf2",
   "metadata": {},
   "source": [
    "### MultinomialNB"
   ]
  },
  {
   "cell_type": "code",
   "execution_count": 5,
   "id": "d61a73da",
   "metadata": {},
   "outputs": [
    {
     "name": "stdout",
     "output_type": "stream",
     "text": [
      "Best min_df: 0\n",
      "Best alpha: 0.4\n",
      "Best train score: 0.7463956170703575\n",
      "Best validation score: 0.6323529411764706\n"
     ]
    }
   ],
   "source": [
    "# Range of min_df values from 0-10\n",
    "min_df = range(11)\n",
    "# Range of alpha values from 0-1 by increments of 0.1\n",
    "alphas = np.arange(0, 1, 0.1)\n",
    "alphas = np.delete(alphas, 0)\n",
    "\n",
    "# Keep track of the best min_df, alpha, train score, and validation score\n",
    "best_md = None\n",
    "best_alpha = None\n",
    "best_train_score = 0\n",
    "best_val_score = 0\n",
    "\n",
    "# Iterate through min_df and alpha values to find the best combination that produces the highest validation score\n",
    "for m in min_df:\n",
    "    #create the vocabulary based on the training data\n",
    "    vect = TfidfVectorizer(min_df=m, ngram_range=(1,2)).fit(X_train)\n",
    "\n",
    "    #encode the words in X_train and X_val based on the vocabulary\n",
    "    X_train_vectorized = vect.transform(X_train)\n",
    "    X_val_vectorized = vect.transform(X_val)\n",
    "    \n",
    "    for a in alphas:\n",
    "        # Train a MultinomialNB model and get the validation score\n",
    "        mnb = MultinomialNB(alpha = a).fit(X_train_vectorized, y_train)\n",
    "        score = mnb.score(X_val_vectorized, y_val)\n",
    "        \n",
    "        # If this model has a higher val score, set the best parameters/scores to the current parameters/scores\n",
    "        if score > best_val_score:\n",
    "            best_md = m\n",
    "            best_alpha = a\n",
    "            best_val_score = score\n",
    "            best_train_score = mnb.score(X_train_vectorized, y_train)\n",
    "            \n",
    "print(f\"Best min_df: {best_md}\")\n",
    "print(f\"Best alpha: {best_alpha}\")\n",
    "print(f\"Best train score: {best_train_score}\")\n",
    "print(f\"Best validation score: {best_val_score}\")"
   ]
  },
  {
   "cell_type": "markdown",
   "id": "66f1ceae",
   "metadata": {},
   "source": [
    "### Logistic Regression"
   ]
  },
  {
   "cell_type": "code",
   "execution_count": 13,
   "id": "f3caa3be",
   "metadata": {},
   "outputs": [
    {
     "name": "stdout",
     "output_type": "stream",
     "text": [
      "0\n",
      "train score: 0.7260508778674869\n",
      "validation score: 0.6438228886325772\n",
      "1\n",
      "train score: 0.7260508778674869\n",
      "validation score: 0.6438228886325772\n",
      "2\n",
      "train score: 0.7343649878251954\n",
      "validation score: 0.6501025246699987\n",
      "3\n",
      "train score: 0.7294710367807253\n",
      "validation score: 0.6456491093169294\n",
      "4\n",
      "train score: 0.7319220171728822\n",
      "validation score: 0.6486928104575164\n",
      "5\n",
      "train score: 0.7240164039471998\n",
      "validation score: 0.6461937716262975\n",
      "6\n",
      "train score: 0.7167916186082276\n",
      "validation score: 0.644239395104447\n",
      "7\n",
      "train score: 0.7151976803793413\n",
      "validation score: 0.6457772651544278\n",
      "8\n",
      "train score: 0.710239651416122\n",
      "validation score: 0.6461937716262975\n",
      "9\n",
      "train score: 0.7051454568755606\n",
      "validation score: 0.645200563885685\n",
      "10\n",
      "train score: 0.7040881712161989\n",
      "validation score: 0.64439958990132\n"
     ]
    }
   ],
   "source": [
    "# Logistic Regression\n",
    "\n",
    "# Range of min_df values from 0-10\n",
    "min_df = range(11)\n",
    "\n",
    "for m in min_df:\n",
    "    #create the vocabulary based on the training data\n",
    "    vect = TfidfVectorizer(min_df=m, ngram_range=(1,2)).fit(X_train)\n",
    "\n",
    "    #encode the words in X_train and X_val based on the vocabulary\n",
    "    X_train_vectorized = vect.transform(X_train)\n",
    "    X_val_vectorized = vect.transform(X_val)\n",
    "\n",
    "    lr = LogisticRegression(n_jobs=-1)\n",
    "    lr.fit(X_train_vectorized, y_train)\n",
    "    train_score = lr.score(X_train_vectorized, y_train)\n",
    "    val_score = lr.score(X_val_vectorized, y_val)\n",
    "\n",
    "    print(m)\n",
    "    print(f\"train score: {train_score}\")\n",
    "    print(f\"validation score: {val_score}\")"
   ]
  },
  {
   "cell_type": "markdown",
   "id": "e851f582",
   "metadata": {},
   "source": [
    "### KNN"
   ]
  },
  {
   "cell_type": "code",
   "execution_count": 4,
   "id": "11d82b32",
   "metadata": {
    "scrolled": true
   },
   "outputs": [
    {
     "ename": "KeyboardInterrupt",
     "evalue": "",
     "output_type": "error",
     "traceback": [
      "\u001b[0;31m---------------------------------------------------------------------------\u001b[0m",
      "\u001b[0;31mKeyboardInterrupt\u001b[0m                         Traceback (most recent call last)",
      "\u001b[0;32m<ipython-input-4-a90c38083469>\u001b[0m in \u001b[0;36m<module>\u001b[0;34m\u001b[0m\n\u001b[1;32m     12\u001b[0m     \u001b[0mknn\u001b[0m \u001b[0;34m=\u001b[0m \u001b[0mKNeighborsClassifier\u001b[0m\u001b[0;34m(\u001b[0m\u001b[0mn_neighbors\u001b[0m\u001b[0;34m=\u001b[0m\u001b[0;36m5\u001b[0m\u001b[0;34m,\u001b[0m \u001b[0mmetric\u001b[0m\u001b[0;34m=\u001b[0m\u001b[0;34m'euclidean'\u001b[0m\u001b[0;34m)\u001b[0m\u001b[0;34m\u001b[0m\u001b[0;34m\u001b[0m\u001b[0m\n\u001b[1;32m     13\u001b[0m     \u001b[0mknn\u001b[0m\u001b[0;34m.\u001b[0m\u001b[0mfit\u001b[0m\u001b[0;34m(\u001b[0m\u001b[0mX_train_vectorized\u001b[0m\u001b[0;34m,\u001b[0m \u001b[0my_train\u001b[0m\u001b[0;34m)\u001b[0m\u001b[0;34m\u001b[0m\u001b[0;34m\u001b[0m\u001b[0m\n\u001b[0;32m---> 14\u001b[0;31m     \u001b[0mtrain_score\u001b[0m \u001b[0;34m=\u001b[0m \u001b[0mknn\u001b[0m\u001b[0;34m.\u001b[0m\u001b[0mscore\u001b[0m\u001b[0;34m(\u001b[0m\u001b[0mX_train_vectorized\u001b[0m\u001b[0;34m,\u001b[0m \u001b[0my_train\u001b[0m\u001b[0;34m)\u001b[0m\u001b[0;34m\u001b[0m\u001b[0;34m\u001b[0m\u001b[0m\n\u001b[0m\u001b[1;32m     15\u001b[0m     \u001b[0mval_score\u001b[0m \u001b[0;34m=\u001b[0m \u001b[0mknn\u001b[0m\u001b[0;34m.\u001b[0m\u001b[0mscore\u001b[0m\u001b[0;34m(\u001b[0m\u001b[0mX_val_vectorized\u001b[0m\u001b[0;34m,\u001b[0m \u001b[0my_val\u001b[0m\u001b[0;34m)\u001b[0m\u001b[0;34m\u001b[0m\u001b[0;34m\u001b[0m\u001b[0m\n\u001b[1;32m     16\u001b[0m \u001b[0;34m\u001b[0m\u001b[0m\n",
      "\u001b[0;32m~/opt/anaconda3/lib/python3.8/site-packages/sklearn/base.py\u001b[0m in \u001b[0;36mscore\u001b[0;34m(self, X, y, sample_weight)\u001b[0m\n\u001b[1;32m    498\u001b[0m         \"\"\"\n\u001b[1;32m    499\u001b[0m         \u001b[0;32mfrom\u001b[0m \u001b[0;34m.\u001b[0m\u001b[0mmetrics\u001b[0m \u001b[0;32mimport\u001b[0m \u001b[0maccuracy_score\u001b[0m\u001b[0;34m\u001b[0m\u001b[0;34m\u001b[0m\u001b[0m\n\u001b[0;32m--> 500\u001b[0;31m         \u001b[0;32mreturn\u001b[0m \u001b[0maccuracy_score\u001b[0m\u001b[0;34m(\u001b[0m\u001b[0my\u001b[0m\u001b[0;34m,\u001b[0m \u001b[0mself\u001b[0m\u001b[0;34m.\u001b[0m\u001b[0mpredict\u001b[0m\u001b[0;34m(\u001b[0m\u001b[0mX\u001b[0m\u001b[0;34m)\u001b[0m\u001b[0;34m,\u001b[0m \u001b[0msample_weight\u001b[0m\u001b[0;34m=\u001b[0m\u001b[0msample_weight\u001b[0m\u001b[0;34m)\u001b[0m\u001b[0;34m\u001b[0m\u001b[0;34m\u001b[0m\u001b[0m\n\u001b[0m\u001b[1;32m    501\u001b[0m \u001b[0;34m\u001b[0m\u001b[0m\n\u001b[1;32m    502\u001b[0m     \u001b[0;32mdef\u001b[0m \u001b[0m_more_tags\u001b[0m\u001b[0;34m(\u001b[0m\u001b[0mself\u001b[0m\u001b[0;34m)\u001b[0m\u001b[0;34m:\u001b[0m\u001b[0;34m\u001b[0m\u001b[0;34m\u001b[0m\u001b[0m\n",
      "\u001b[0;32m~/opt/anaconda3/lib/python3.8/site-packages/sklearn/neighbors/_classification.py\u001b[0m in \u001b[0;36mpredict\u001b[0;34m(self, X)\u001b[0m\n\u001b[1;32m    195\u001b[0m         \u001b[0mX\u001b[0m \u001b[0;34m=\u001b[0m \u001b[0mcheck_array\u001b[0m\u001b[0;34m(\u001b[0m\u001b[0mX\u001b[0m\u001b[0;34m,\u001b[0m \u001b[0maccept_sparse\u001b[0m\u001b[0;34m=\u001b[0m\u001b[0;34m'csr'\u001b[0m\u001b[0;34m)\u001b[0m\u001b[0;34m\u001b[0m\u001b[0;34m\u001b[0m\u001b[0m\n\u001b[1;32m    196\u001b[0m \u001b[0;34m\u001b[0m\u001b[0m\n\u001b[0;32m--> 197\u001b[0;31m         \u001b[0mneigh_dist\u001b[0m\u001b[0;34m,\u001b[0m \u001b[0mneigh_ind\u001b[0m \u001b[0;34m=\u001b[0m \u001b[0mself\u001b[0m\u001b[0;34m.\u001b[0m\u001b[0mkneighbors\u001b[0m\u001b[0;34m(\u001b[0m\u001b[0mX\u001b[0m\u001b[0;34m)\u001b[0m\u001b[0;34m\u001b[0m\u001b[0;34m\u001b[0m\u001b[0m\n\u001b[0m\u001b[1;32m    198\u001b[0m         \u001b[0mclasses_\u001b[0m \u001b[0;34m=\u001b[0m \u001b[0mself\u001b[0m\u001b[0;34m.\u001b[0m\u001b[0mclasses_\u001b[0m\u001b[0;34m\u001b[0m\u001b[0;34m\u001b[0m\u001b[0m\n\u001b[1;32m    199\u001b[0m         \u001b[0m_y\u001b[0m \u001b[0;34m=\u001b[0m \u001b[0mself\u001b[0m\u001b[0;34m.\u001b[0m\u001b[0m_y\u001b[0m\u001b[0;34m\u001b[0m\u001b[0;34m\u001b[0m\u001b[0m\n",
      "\u001b[0;32m~/opt/anaconda3/lib/python3.8/site-packages/sklearn/neighbors/_base.py\u001b[0m in \u001b[0;36mkneighbors\u001b[0;34m(self, X, n_neighbors, return_distance)\u001b[0m\n\u001b[1;32m    703\u001b[0m                 \u001b[0mkwds\u001b[0m \u001b[0;34m=\u001b[0m \u001b[0mself\u001b[0m\u001b[0;34m.\u001b[0m\u001b[0meffective_metric_params_\u001b[0m\u001b[0;34m\u001b[0m\u001b[0;34m\u001b[0m\u001b[0m\n\u001b[1;32m    704\u001b[0m \u001b[0;34m\u001b[0m\u001b[0m\n\u001b[0;32m--> 705\u001b[0;31m             chunked_results = list(pairwise_distances_chunked(\n\u001b[0m\u001b[1;32m    706\u001b[0m                 \u001b[0mX\u001b[0m\u001b[0;34m,\u001b[0m \u001b[0mself\u001b[0m\u001b[0;34m.\u001b[0m\u001b[0m_fit_X\u001b[0m\u001b[0;34m,\u001b[0m \u001b[0mreduce_func\u001b[0m\u001b[0;34m=\u001b[0m\u001b[0mreduce_func\u001b[0m\u001b[0;34m,\u001b[0m\u001b[0;34m\u001b[0m\u001b[0;34m\u001b[0m\u001b[0m\n\u001b[1;32m    707\u001b[0m                 \u001b[0mmetric\u001b[0m\u001b[0;34m=\u001b[0m\u001b[0mself\u001b[0m\u001b[0;34m.\u001b[0m\u001b[0meffective_metric_\u001b[0m\u001b[0;34m,\u001b[0m \u001b[0mn_jobs\u001b[0m\u001b[0;34m=\u001b[0m\u001b[0mn_jobs\u001b[0m\u001b[0;34m,\u001b[0m\u001b[0;34m\u001b[0m\u001b[0;34m\u001b[0m\u001b[0m\n",
      "\u001b[0;32m~/opt/anaconda3/lib/python3.8/site-packages/sklearn/metrics/pairwise.py\u001b[0m in \u001b[0;36mpairwise_distances_chunked\u001b[0;34m(X, Y, reduce_func, metric, n_jobs, working_memory, **kwds)\u001b[0m\n\u001b[1;32m   1621\u001b[0m         \u001b[0;32melse\u001b[0m\u001b[0;34m:\u001b[0m\u001b[0;34m\u001b[0m\u001b[0;34m\u001b[0m\u001b[0m\n\u001b[1;32m   1622\u001b[0m             \u001b[0mX_chunk\u001b[0m \u001b[0;34m=\u001b[0m \u001b[0mX\u001b[0m\u001b[0;34m[\u001b[0m\u001b[0msl\u001b[0m\u001b[0;34m]\u001b[0m\u001b[0;34m\u001b[0m\u001b[0;34m\u001b[0m\u001b[0m\n\u001b[0;32m-> 1623\u001b[0;31m         D_chunk = pairwise_distances(X_chunk, Y, metric=metric,\n\u001b[0m\u001b[1;32m   1624\u001b[0m                                      n_jobs=n_jobs, **kwds)\n\u001b[1;32m   1625\u001b[0m         if ((X is Y or Y is None)\n",
      "\u001b[0;32m~/opt/anaconda3/lib/python3.8/site-packages/sklearn/utils/validation.py\u001b[0m in \u001b[0;36minner_f\u001b[0;34m(*args, **kwargs)\u001b[0m\n\u001b[1;32m     61\u001b[0m             \u001b[0mextra_args\u001b[0m \u001b[0;34m=\u001b[0m \u001b[0mlen\u001b[0m\u001b[0;34m(\u001b[0m\u001b[0margs\u001b[0m\u001b[0;34m)\u001b[0m \u001b[0;34m-\u001b[0m \u001b[0mlen\u001b[0m\u001b[0;34m(\u001b[0m\u001b[0mall_args\u001b[0m\u001b[0;34m)\u001b[0m\u001b[0;34m\u001b[0m\u001b[0;34m\u001b[0m\u001b[0m\n\u001b[1;32m     62\u001b[0m             \u001b[0;32mif\u001b[0m \u001b[0mextra_args\u001b[0m \u001b[0;34m<=\u001b[0m \u001b[0;36m0\u001b[0m\u001b[0;34m:\u001b[0m\u001b[0;34m\u001b[0m\u001b[0;34m\u001b[0m\u001b[0m\n\u001b[0;32m---> 63\u001b[0;31m                 \u001b[0;32mreturn\u001b[0m \u001b[0mf\u001b[0m\u001b[0;34m(\u001b[0m\u001b[0;34m*\u001b[0m\u001b[0margs\u001b[0m\u001b[0;34m,\u001b[0m \u001b[0;34m**\u001b[0m\u001b[0mkwargs\u001b[0m\u001b[0;34m)\u001b[0m\u001b[0;34m\u001b[0m\u001b[0;34m\u001b[0m\u001b[0m\n\u001b[0m\u001b[1;32m     64\u001b[0m \u001b[0;34m\u001b[0m\u001b[0m\n\u001b[1;32m     65\u001b[0m             \u001b[0;31m# extra_args > 0\u001b[0m\u001b[0;34m\u001b[0m\u001b[0;34m\u001b[0m\u001b[0;34m\u001b[0m\u001b[0m\n",
      "\u001b[0;32m~/opt/anaconda3/lib/python3.8/site-packages/sklearn/metrics/pairwise.py\u001b[0m in \u001b[0;36mpairwise_distances\u001b[0;34m(X, Y, metric, n_jobs, force_all_finite, **kwds)\u001b[0m\n\u001b[1;32m   1788\u001b[0m         \u001b[0mfunc\u001b[0m \u001b[0;34m=\u001b[0m \u001b[0mpartial\u001b[0m\u001b[0;34m(\u001b[0m\u001b[0mdistance\u001b[0m\u001b[0;34m.\u001b[0m\u001b[0mcdist\u001b[0m\u001b[0;34m,\u001b[0m \u001b[0mmetric\u001b[0m\u001b[0;34m=\u001b[0m\u001b[0mmetric\u001b[0m\u001b[0;34m,\u001b[0m \u001b[0;34m**\u001b[0m\u001b[0mkwds\u001b[0m\u001b[0;34m)\u001b[0m\u001b[0;34m\u001b[0m\u001b[0;34m\u001b[0m\u001b[0m\n\u001b[1;32m   1789\u001b[0m \u001b[0;34m\u001b[0m\u001b[0m\n\u001b[0;32m-> 1790\u001b[0;31m     \u001b[0;32mreturn\u001b[0m \u001b[0m_parallel_pairwise\u001b[0m\u001b[0;34m(\u001b[0m\u001b[0mX\u001b[0m\u001b[0;34m,\u001b[0m \u001b[0mY\u001b[0m\u001b[0;34m,\u001b[0m \u001b[0mfunc\u001b[0m\u001b[0;34m,\u001b[0m \u001b[0mn_jobs\u001b[0m\u001b[0;34m,\u001b[0m \u001b[0;34m**\u001b[0m\u001b[0mkwds\u001b[0m\u001b[0;34m)\u001b[0m\u001b[0;34m\u001b[0m\u001b[0;34m\u001b[0m\u001b[0m\n\u001b[0m\u001b[1;32m   1791\u001b[0m \u001b[0;34m\u001b[0m\u001b[0m\n\u001b[1;32m   1792\u001b[0m \u001b[0;34m\u001b[0m\u001b[0m\n",
      "\u001b[0;32m~/opt/anaconda3/lib/python3.8/site-packages/sklearn/metrics/pairwise.py\u001b[0m in \u001b[0;36m_parallel_pairwise\u001b[0;34m(X, Y, func, n_jobs, **kwds)\u001b[0m\n\u001b[1;32m   1357\u001b[0m \u001b[0;34m\u001b[0m\u001b[0m\n\u001b[1;32m   1358\u001b[0m     \u001b[0;32mif\u001b[0m \u001b[0meffective_n_jobs\u001b[0m\u001b[0;34m(\u001b[0m\u001b[0mn_jobs\u001b[0m\u001b[0;34m)\u001b[0m \u001b[0;34m==\u001b[0m \u001b[0;36m1\u001b[0m\u001b[0;34m:\u001b[0m\u001b[0;34m\u001b[0m\u001b[0;34m\u001b[0m\u001b[0m\n\u001b[0;32m-> 1359\u001b[0;31m         \u001b[0;32mreturn\u001b[0m \u001b[0mfunc\u001b[0m\u001b[0;34m(\u001b[0m\u001b[0mX\u001b[0m\u001b[0;34m,\u001b[0m \u001b[0mY\u001b[0m\u001b[0;34m,\u001b[0m \u001b[0;34m**\u001b[0m\u001b[0mkwds\u001b[0m\u001b[0;34m)\u001b[0m\u001b[0;34m\u001b[0m\u001b[0;34m\u001b[0m\u001b[0m\n\u001b[0m\u001b[1;32m   1360\u001b[0m \u001b[0;34m\u001b[0m\u001b[0m\n\u001b[1;32m   1361\u001b[0m     \u001b[0;31m# enforce a threading backend to prevent data communication overhead\u001b[0m\u001b[0;34m\u001b[0m\u001b[0;34m\u001b[0m\u001b[0;34m\u001b[0m\u001b[0m\n",
      "\u001b[0;32m~/opt/anaconda3/lib/python3.8/site-packages/sklearn/utils/validation.py\u001b[0m in \u001b[0;36minner_f\u001b[0;34m(*args, **kwargs)\u001b[0m\n\u001b[1;32m     61\u001b[0m             \u001b[0mextra_args\u001b[0m \u001b[0;34m=\u001b[0m \u001b[0mlen\u001b[0m\u001b[0;34m(\u001b[0m\u001b[0margs\u001b[0m\u001b[0;34m)\u001b[0m \u001b[0;34m-\u001b[0m \u001b[0mlen\u001b[0m\u001b[0;34m(\u001b[0m\u001b[0mall_args\u001b[0m\u001b[0;34m)\u001b[0m\u001b[0;34m\u001b[0m\u001b[0;34m\u001b[0m\u001b[0m\n\u001b[1;32m     62\u001b[0m             \u001b[0;32mif\u001b[0m \u001b[0mextra_args\u001b[0m \u001b[0;34m<=\u001b[0m \u001b[0;36m0\u001b[0m\u001b[0;34m:\u001b[0m\u001b[0;34m\u001b[0m\u001b[0;34m\u001b[0m\u001b[0m\n\u001b[0;32m---> 63\u001b[0;31m                 \u001b[0;32mreturn\u001b[0m \u001b[0mf\u001b[0m\u001b[0;34m(\u001b[0m\u001b[0;34m*\u001b[0m\u001b[0margs\u001b[0m\u001b[0;34m,\u001b[0m \u001b[0;34m**\u001b[0m\u001b[0mkwargs\u001b[0m\u001b[0;34m)\u001b[0m\u001b[0;34m\u001b[0m\u001b[0;34m\u001b[0m\u001b[0m\n\u001b[0m\u001b[1;32m     64\u001b[0m \u001b[0;34m\u001b[0m\u001b[0m\n\u001b[1;32m     65\u001b[0m             \u001b[0;31m# extra_args > 0\u001b[0m\u001b[0;34m\u001b[0m\u001b[0;34m\u001b[0m\u001b[0;34m\u001b[0m\u001b[0m\n",
      "\u001b[0;32m~/opt/anaconda3/lib/python3.8/site-packages/sklearn/metrics/pairwise.py\u001b[0m in \u001b[0;36meuclidean_distances\u001b[0;34m(X, Y, Y_norm_squared, squared, X_norm_squared)\u001b[0m\n\u001b[1;32m    311\u001b[0m     \u001b[0;32melse\u001b[0m\u001b[0;34m:\u001b[0m\u001b[0;34m\u001b[0m\u001b[0;34m\u001b[0m\u001b[0m\n\u001b[1;32m    312\u001b[0m         \u001b[0;31m# if dtype is already float64, no need to chunk and upcast\u001b[0m\u001b[0;34m\u001b[0m\u001b[0;34m\u001b[0m\u001b[0;34m\u001b[0m\u001b[0m\n\u001b[0;32m--> 313\u001b[0;31m         \u001b[0mdistances\u001b[0m \u001b[0;34m=\u001b[0m \u001b[0;34m-\u001b[0m \u001b[0;36m2\u001b[0m \u001b[0;34m*\u001b[0m \u001b[0msafe_sparse_dot\u001b[0m\u001b[0;34m(\u001b[0m\u001b[0mX\u001b[0m\u001b[0;34m,\u001b[0m \u001b[0mY\u001b[0m\u001b[0;34m.\u001b[0m\u001b[0mT\u001b[0m\u001b[0;34m,\u001b[0m \u001b[0mdense_output\u001b[0m\u001b[0;34m=\u001b[0m\u001b[0;32mTrue\u001b[0m\u001b[0;34m)\u001b[0m\u001b[0;34m\u001b[0m\u001b[0;34m\u001b[0m\u001b[0m\n\u001b[0m\u001b[1;32m    314\u001b[0m         \u001b[0mdistances\u001b[0m \u001b[0;34m+=\u001b[0m \u001b[0mXX\u001b[0m\u001b[0;34m\u001b[0m\u001b[0;34m\u001b[0m\u001b[0m\n\u001b[1;32m    315\u001b[0m         \u001b[0mdistances\u001b[0m \u001b[0;34m+=\u001b[0m \u001b[0mYY\u001b[0m\u001b[0;34m\u001b[0m\u001b[0;34m\u001b[0m\u001b[0m\n",
      "\u001b[0;31mKeyboardInterrupt\u001b[0m: "
     ]
    }
   ],
   "source": [
    "# Range of min_df values from 0-10\n",
    "min_df = range(11)\n",
    "\n",
    "for m in min_df:\n",
    "    #create the vocabulary based on the training data\n",
    "    vect = TfidfVectorizer(min_df=m, ngram_range=(1,2)).fit(X_train)\n",
    "\n",
    "    #encode the words in X_train and X_val based on the vocabulary\n",
    "    X_train_vectorized = vect.transform(X_train)\n",
    "    X_val_vectorized = vect.transform(X_val)\n",
    "\n",
    "    knn = KNeighborsClassifier(n_neighbors=5, metric='euclidean')\n",
    "    knn.fit(X_train_vectorized, y_train)\n",
    "    train_score = knn.score(X_train_vectorized, y_train)\n",
    "    val_score = knn.score(X_val_vectorized, y_val)\n",
    "\n",
    "    print(m)\n",
    "    print(f\"train score: {train_score}\")\n",
    "    print(f\"validation score: {val_score}\")"
   ]
  },
  {
   "cell_type": "code",
   "execution_count": 5,
   "id": "7e5fac5b",
   "metadata": {},
   "outputs": [
    {
     "name": "stdout",
     "output_type": "stream",
     "text": [
      "train score: 0.7332356145072408\n",
      "validation score: 0.6162053056516724\n"
     ]
    }
   ],
   "source": [
    "#create the vocabulary based on the training data\n",
    "vect = TfidfVectorizer(ngram_range=(1,2)).fit(X_train)\n",
    "\n",
    "#encode the words in X_train and X_val based on the vocabulary\n",
    "X_train_vectorized = vect.transform(X_train)\n",
    "X_val_vectorized = vect.transform(X_val)\n",
    "\n",
    "knn = KNeighborsClassifier(n_neighbors=5, metric='euclidean')\n",
    "knn.fit(X_train_vectorized, y_train)\n",
    "train_score = knn.score(X_train_vectorized, y_train)\n",
    "val_score = knn.score(X_val_vectorized, y_val)\n",
    "\n",
    "print(f\"train score: {train_score}\")\n",
    "print(f\"validation score: {val_score}\")"
   ]
  },
  {
   "cell_type": "markdown",
   "id": "30f4e729",
   "metadata": {},
   "source": [
    "### Decision Tree "
   ]
  },
  {
   "cell_type": "code",
   "execution_count": null,
   "id": "5134373e",
   "metadata": {},
   "outputs": [],
   "source": [
    "# # Range of min_df values from 0-10\n",
    "# min_df = range(11)\n",
    "\n",
    "# for m in min_df:\n",
    "#     #create the vocabulary based on the training data\n",
    "#     vect = TfidfVectorizer(min_df=m, ngram_range=(1,2)).fit(X_train)\n",
    "\n",
    "#     #encode the words in X_train and X_val based on the vocabulary\n",
    "#     X_train_vectorized = vect.transform(X_train)\n",
    "#     X_val_vectorized = vect.transform(X_val)\n",
    "\n",
    "#     dtc = DecisionTreeClassifier()\n",
    "#     dtc.fit(X_train_vectorized, y_train)\n",
    "#     train_score = dtc.score(X_train_vectorized, y_train)\n",
    "#     val_score = dtc.score(X_val_vectorized, y_val)\n",
    "\n",
    "#     print(m)\n",
    "#     print(f\"train score: {train_score}\")\n",
    "#     print(f\"validation score: {val_score}\")"
   ]
  },
  {
   "cell_type": "code",
   "execution_count": 6,
   "id": "c38a4eb8",
   "metadata": {},
   "outputs": [
    {
     "name": "stdout",
     "output_type": "stream",
     "text": [
      "train score: 0.9528867102396514\n",
      "validation score: 0.5914071510957324\n"
     ]
    }
   ],
   "source": [
    "# Without pruning conditions\n",
    "#create the vocabulary based on the training data\n",
    "vect = TfidfVectorizer(ngram_range=(1,2)).fit(X_train)\n",
    "\n",
    "#encode the words in X_train and X_val based on the vocabulary\n",
    "X_train_vectorized = vect.transform(X_train)\n",
    "X_val_vectorized = vect.transform(X_val)\n",
    "\n",
    "dtc = DecisionTreeClassifier(random_state=0)\n",
    "dtc.fit(X_train_vectorized, y_train)\n",
    "train_score = dtc.score(X_train_vectorized, y_train)\n",
    "val_score = dtc.score(X_val_vectorized, y_val)\n",
    "\n",
    "print(f\"train score: {train_score}\")\n",
    "print(f\"validation score: {val_score}\")\n"
   ]
  },
  {
   "cell_type": "code",
   "execution_count": 13,
   "id": "5c5c9982",
   "metadata": {},
   "outputs": [
    {
     "name": "stdout",
     "output_type": "stream",
     "text": [
      "Best max depth: 10\n",
      "Best min samples split: 6\n",
      "Best min samples leaf: 3\n",
      "Val MSE: 0.8467576573112905\n",
      "Train score: 0.5359316929386133\n",
      "Val score: 0.5296360374215046\n"
     ]
    }
   ],
   "source": [
    "# Hyperparameters\n",
    "max_depth = [x for x in range(1, 11)]\n",
    "min_samples_split = [x for x in range(2, 11)]\n",
    "min_samples_leaf = [x for x in range(1, 11)]\n",
    "param_grid = {'max_depth': max_depth, 'min_samples_split': min_samples_split, \n",
    "              'min_samples_leaf': min_samples_leaf}\n",
    "\n",
    "#create the vocabulary based on the training data\n",
    "vect = TfidfVectorizer(ngram_range=(1,2)).fit(X_train)\n",
    "\n",
    "#encode the words in X_train and X_val based on the vocabulary\n",
    "X_train_vectorized = vect.transform(X_train)\n",
    "X_val_vectorized = vect.transform(X_val)\n",
    "\n",
    "# Define a DecisionTreeRegressor model\n",
    "dtc = DecisionTreeClassifier(random_state=0)\n",
    "\n",
    "# Perform grid search cv on the gradient boosting model to determine the best\n",
    "# n_estimators, max_depth, and min_samples_split values\n",
    "dtc_cv = RandomizedSearchCV(dtc, param_grid, cv=10, n_jobs=-1, random_state=123)\n",
    "dtc_cv.fit(X_train_vectorized, y_train)\n",
    "\n",
    "# The best parameters\n",
    "best_md = dtc_cv.best_params_['max_depth']\n",
    "best_mss = dtc_cv.best_params_['min_samples_split']\n",
    "best_msl = dtc_cv.best_params_['min_samples_leaf']\n",
    "print('Best max depth: ' + str(best_md))\n",
    "print('Best min samples split: ' + str(best_mss))\n",
    "print('Best min samples leaf: ' + str(best_msl))\n",
    "\n",
    "\n",
    "# Calculate the MSE\n",
    "pred = dtc_cv.predict(X_val_vectorized)\n",
    "mse_gbr = mean_squared_error(y_val, pred)\n",
    "train_score = dtc_cv.score(X_train_vectorized, y_train)\n",
    "val_score = dtc_cv.score(X_val_vectorized, y_val)\n",
    "print(f'Val MSE: {mse_gbr}')\n",
    "print(f'Train score: {train_score}')\n",
    "print(f'Val score: {val_score}')"
   ]
  },
  {
   "cell_type": "code",
   "execution_count": 17,
   "id": "a46263f3",
   "metadata": {},
   "outputs": [
    {
     "data": {
      "image/png": "[encoded data removed]",
      "text/plain": [
       "<Figure size 432x288 with 1 Axes>"
      ]
     },
     "metadata": {
      "needs_background": "light"
     },
     "output_type": "display_data"
    }
   ],
   "source": [
    "# Plot the tree\n",
    "tree.plot_tree(dtc_cv.best_estimator_)\n",
    "plt.show()"
   ]
  },
  {
   "cell_type": "markdown",
   "id": "164331b3",
   "metadata": {},
   "source": [
    "### Random Forest"
   ]
  },
  {
   "cell_type": "code",
   "execution_count": null,
   "id": "25720678",
   "metadata": {},
   "outputs": [],
   "source": [
    "# Without pruning conditions\n",
    "#create the vocabulary based on the training data\n",
    "vect = TfidfVectorizer(ngram_range=(1,2)).fit(X_train)\n",
    "\n",
    "#encode the words in X_train and X_val based on the vocabulary\n",
    "X_train_vectorized = vect.transform(X_train)\n",
    "X_val_vectorized = vect.transform(X_val)\n",
    "\n",
    "rfc = RandomForestClassifier(random_state=0)\n",
    "rfc.fit(X_train_vectorized, y_train)\n",
    "train_score = rfc.score(X_train_vectorized, y_train)\n",
    "val_score = rfc.score(X_val_vectorized, y_val)\n",
    "\n",
    "print(f\"train score: {train_score}\")\n",
    "print(f\"validation score: {val_score}\")"
   ]
  }
 ],
 "metadata": {
  "kernelspec": {
   "display_name": "Python 3",
   "language": "python",
   "name": "python3"
  },
  "language_info": {
   "codemirror_mode": {
    "name": "ipython",
    "version": 3
   },
   "file_extension": ".py",
   "mimetype": "text/x-python",
   "name": "python",
   "nbconvert_exporter": "python",
   "pygments_lexer": "ipython3",
   "version": "3.8.8"
  }
 },
 "nbformat": 4,
 "nbformat_minor": 5
}
